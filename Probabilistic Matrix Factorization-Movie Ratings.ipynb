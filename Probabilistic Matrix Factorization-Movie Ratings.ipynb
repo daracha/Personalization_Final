{
 "cells": [
  {
   "cell_type": "markdown",
   "metadata": {},
   "source": [
    "# Probabilistic Matrix Factorization (PMF)\n",
    "\n",
    "We have a matrix of $N_1$ users who have rated $N_2$ objects (movies). Let us call this matrix M, where $M_{ij}$ contains the rating for user i of object j. PMF is a generatve model in which we assume gaussian distribution for user and object locations and learn the gaussian parameters from the data (matrix). To obtain the parameters of the distribution we need to maximize the log-liklihood:\n",
    "\n",
    "\\begin{equation}\n",
    "p(M_0, U, V)  = \\left[ \\prod_{(i,j) \\in \\Omega} p(M_{ij} | u_i, v_j) \\right] x \\left[ \\prod_{j=1}^{N_2} p(v_j) \\right] x \\left[ \\prod_{i  = 1}^{N_1} p(u_i)\\right]\n",
    "\\end{equation}\n",
    " \n"
   ]
  },
  {
   "cell_type": "markdown",
   "metadata": {},
   "source": [
    "## Required packages\n",
    "Installing packages required for building and evaluating the model "
   ]
  },
  {
   "cell_type": "code",
   "execution_count": 97,
   "metadata": {
    "collapsed": true
   },
   "outputs": [],
   "source": [
    "import numpy as np\n",
    "import numpy.linalg as nplg\n",
    "import pandas as pd\n",
    "import matplotlib.pyplot as plt\n",
    "\n",
    "% matplotlib inline"
   ]
  },
  {
   "cell_type": "markdown",
   "metadata": {},
   "source": [
    "Reading the training ratings dataset"
   ]
  },
  {
   "cell_type": "code",
   "execution_count": 454,
   "metadata": {},
   "outputs": [
    {
     "data": {
      "text/plain": [
       "(95000, 3)"
      ]
     },
     "execution_count": 454,
     "metadata": {},
     "output_type": "execute_result"
    }
   ],
   "source": [
    "ratings_ml =  pd.read_csv('ratings_ml.csv')\n",
    "ratings_ml.shape\n"
   ]
  },
  {
   "cell_type": "code",
   "execution_count": 242,
   "metadata": {},
   "outputs": [
    {
     "data": {
      "text/html": [
       "<div>\n",
       "<style>\n",
       "    .dataframe thead tr:only-child th {\n",
       "        text-align: right;\n",
       "    }\n",
       "\n",
       "    .dataframe thead th {\n",
       "        text-align: left;\n",
       "    }\n",
       "\n",
       "    .dataframe tbody tr th {\n",
       "        vertical-align: top;\n",
       "    }\n",
       "</style>\n",
       "<table border=\"1\" class=\"dataframe\">\n",
       "  <thead>\n",
       "    <tr style=\"text-align: right;\">\n",
       "      <th></th>\n",
       "      <th>userId</th>\n",
       "      <th>movieId</th>\n",
       "      <th>rating</th>\n",
       "    </tr>\n",
       "  </thead>\n",
       "  <tbody>\n",
       "    <tr>\n",
       "      <th>0</th>\n",
       "      <td>1</td>\n",
       "      <td>31</td>\n",
       "      <td>-1.035437</td>\n",
       "    </tr>\n",
       "    <tr>\n",
       "      <th>1</th>\n",
       "      <td>1</td>\n",
       "      <td>1029</td>\n",
       "      <td>-0.535437</td>\n",
       "    </tr>\n",
       "    <tr>\n",
       "      <th>2</th>\n",
       "      <td>1</td>\n",
       "      <td>1061</td>\n",
       "      <td>-0.535437</td>\n",
       "    </tr>\n",
       "    <tr>\n",
       "      <th>3</th>\n",
       "      <td>1</td>\n",
       "      <td>1129</td>\n",
       "      <td>-1.535437</td>\n",
       "    </tr>\n",
       "    <tr>\n",
       "      <th>4</th>\n",
       "      <td>1</td>\n",
       "      <td>1172</td>\n",
       "      <td>0.464563</td>\n",
       "    </tr>\n",
       "  </tbody>\n",
       "</table>\n",
       "</div>"
      ],
      "text/plain": [
       "   userId  movieId    rating\n",
       "0       1       31 -1.035437\n",
       "1       1     1029 -0.535437\n",
       "2       1     1061 -0.535437\n",
       "3       1     1129 -1.535437\n",
       "4       1     1172  0.464563"
      ]
     },
     "execution_count": 242,
     "metadata": {},
     "output_type": "execute_result"
    }
   ],
   "source": [
    "ratings_ml.head()"
   ]
  },
  {
   "cell_type": "markdown",
   "metadata": {},
   "source": [
    "Summary of training movie dataset"
   ]
  },
  {
   "cell_type": "code",
   "execution_count": 100,
   "metadata": {},
   "outputs": [
    {
     "name": "stdout",
     "output_type": "stream",
     "text": [
      "Number of unqiue users in the training dataset = 624\n",
      "Number of unqiue movies in the training dataset = 8793\n",
      "Count of ratings present in the training dataset = 95000\n"
     ]
    }
   ],
   "source": [
    "unique_users = ratings_ml['userId'].nunique()\n",
    "unique_movies = ratings_ml['movieId'].nunique()\n",
    "count_ratings = ratings_ml['rating'].count()\n",
    "\n",
    "print('Number of unqiue users in the training dataset = {}'.format(unique_users))\n",
    "print('Number of unqiue movies in the training dataset = {}'.format(unique_movies))\n",
    "print('Count of ratings present in the training dataset = {}'.format(count_ratings)) "
   ]
  },
  {
   "cell_type": "markdown",
   "metadata": {},
   "source": [
    "## Preprocessing"
   ]
  },
  {
   "cell_type": "code",
   "execution_count": 455,
   "metadata": {
    "collapsed": true
   },
   "outputs": [],
   "source": [
    "#Substracting the mean rating from each rating\n",
    "ratings_ml['rating'] = ratings_ml['rating'] - ratings_ml['rating'].mean()"
   ]
  },
  {
   "cell_type": "markdown",
   "metadata": {},
   "source": [
    "Creating a unique Key ranging from 0 to 9055 corresponding to each movie Id for our analysis"
   ]
  },
  {
   "cell_type": "code",
   "execution_count": 456,
   "metadata": {},
   "outputs": [
    {
     "data": {
      "text/plain": [
       "(100004, 4)"
      ]
     },
     "execution_count": 456,
     "metadata": {},
     "output_type": "execute_result"
    }
   ],
   "source": [
    "#Loading the total ratings data \n",
    "tot_ratings =  pd.read_csv('ratings_ml_tot.csv')\n",
    "tot_ratings.shape"
   ]
  },
  {
   "cell_type": "code",
   "execution_count": 403,
   "metadata": {},
   "outputs": [
    {
     "data": {
      "text/html": [
       "<div>\n",
       "<style>\n",
       "    .dataframe thead tr:only-child th {\n",
       "        text-align: right;\n",
       "    }\n",
       "\n",
       "    .dataframe thead th {\n",
       "        text-align: left;\n",
       "    }\n",
       "\n",
       "    .dataframe tbody tr th {\n",
       "        vertical-align: top;\n",
       "    }\n",
       "</style>\n",
       "<table border=\"1\" class=\"dataframe\">\n",
       "  <thead>\n",
       "    <tr style=\"text-align: right;\">\n",
       "      <th></th>\n",
       "      <th>userId</th>\n",
       "      <th>movieId</th>\n",
       "      <th>rating</th>\n",
       "      <th>movieKey</th>\n",
       "    </tr>\n",
       "  </thead>\n",
       "  <tbody>\n",
       "    <tr>\n",
       "      <th>0</th>\n",
       "      <td>1</td>\n",
       "      <td>31</td>\n",
       "      <td>-1.035437</td>\n",
       "      <td>30</td>\n",
       "    </tr>\n",
       "    <tr>\n",
       "      <th>1</th>\n",
       "      <td>1</td>\n",
       "      <td>1029</td>\n",
       "      <td>-0.535437</td>\n",
       "      <td>870</td>\n",
       "    </tr>\n",
       "    <tr>\n",
       "      <th>2</th>\n",
       "      <td>1</td>\n",
       "      <td>1061</td>\n",
       "      <td>-0.535437</td>\n",
       "      <td>897</td>\n",
       "    </tr>\n",
       "    <tr>\n",
       "      <th>3</th>\n",
       "      <td>1</td>\n",
       "      <td>1129</td>\n",
       "      <td>-1.535437</td>\n",
       "      <td>947</td>\n",
       "    </tr>\n",
       "    <tr>\n",
       "      <th>4</th>\n",
       "      <td>1</td>\n",
       "      <td>1172</td>\n",
       "      <td>0.464563</td>\n",
       "      <td>975</td>\n",
       "    </tr>\n",
       "  </tbody>\n",
       "</table>\n",
       "</div>"
      ],
      "text/plain": [
       "   userId  movieId    rating  movieKey\n",
       "0       1       31 -1.035437        30\n",
       "1       1     1029 -0.535437       870\n",
       "2       1     1061 -0.535437       897\n",
       "3       1     1129 -1.535437       947\n",
       "4       1     1172  0.464563       975"
      ]
     },
     "execution_count": 403,
     "metadata": {},
     "output_type": "execute_result"
    }
   ],
   "source": [
    "uniq_movies = set(tot_ratings['movieId'])\n",
    "uniq_movies = list(uniq_movies)\n",
    "mylist = list(xrange(len(uniq_movies)))\n",
    "key_df = pd.DataFrame({'movieId': uniq_movies,'movieKey': mylist}) \n",
    "ratings_fin = pd.merge(ratings_ml,key_df,how = 'left', left_on = ['movieId'], right_on = ['movieId'])\n",
    "ratings_fin.head()"
   ]
  },
  {
   "cell_type": "code",
   "execution_count": 104,
   "metadata": {},
   "outputs": [
    {
     "data": {
      "text/html": [
       "<div>\n",
       "<style>\n",
       "    .dataframe thead tr:only-child th {\n",
       "        text-align: right;\n",
       "    }\n",
       "\n",
       "    .dataframe thead th {\n",
       "        text-align: left;\n",
       "    }\n",
       "\n",
       "    .dataframe tbody tr th {\n",
       "        vertical-align: top;\n",
       "    }\n",
       "</style>\n",
       "<table border=\"1\" class=\"dataframe\">\n",
       "  <thead>\n",
       "    <tr style=\"text-align: right;\">\n",
       "      <th></th>\n",
       "      <th>userId</th>\n",
       "      <th>movieId</th>\n",
       "      <th>rating</th>\n",
       "      <th>movieKey</th>\n",
       "    </tr>\n",
       "  </thead>\n",
       "  <tbody>\n",
       "    <tr>\n",
       "      <th>0</th>\n",
       "      <td>1</td>\n",
       "      <td>31</td>\n",
       "      <td>-1.035437</td>\n",
       "      <td>30</td>\n",
       "    </tr>\n",
       "    <tr>\n",
       "      <th>1</th>\n",
       "      <td>1</td>\n",
       "      <td>1029</td>\n",
       "      <td>-0.535437</td>\n",
       "      <td>870</td>\n",
       "    </tr>\n",
       "    <tr>\n",
       "      <th>2</th>\n",
       "      <td>1</td>\n",
       "      <td>1061</td>\n",
       "      <td>-0.535437</td>\n",
       "      <td>897</td>\n",
       "    </tr>\n",
       "    <tr>\n",
       "      <th>3</th>\n",
       "      <td>1</td>\n",
       "      <td>1129</td>\n",
       "      <td>-1.535437</td>\n",
       "      <td>947</td>\n",
       "    </tr>\n",
       "    <tr>\n",
       "      <th>4</th>\n",
       "      <td>1</td>\n",
       "      <td>1172</td>\n",
       "      <td>0.464563</td>\n",
       "      <td>975</td>\n",
       "    </tr>\n",
       "  </tbody>\n",
       "</table>\n",
       "</div>"
      ],
      "text/plain": [
       "   userId  movieId    rating  movieKey\n",
       "0       1       31 -1.035437        30\n",
       "1       1     1029 -0.535437       870\n",
       "2       1     1061 -0.535437       897\n",
       "3       1     1129 -1.535437       947\n",
       "4       1     1172  0.464563       975"
      ]
     },
     "execution_count": 104,
     "metadata": {},
     "output_type": "execute_result"
    }
   ],
   "source": [
    "#del ratings_fin['movieId']\n",
    "ratings_fin.head()"
   ]
  },
  {
   "cell_type": "code",
   "execution_count": 105,
   "metadata": {},
   "outputs": [
    {
     "data": {
      "text/html": [
       "<div>\n",
       "<style>\n",
       "    .dataframe thead tr:only-child th {\n",
       "        text-align: right;\n",
       "    }\n",
       "\n",
       "    .dataframe thead th {\n",
       "        text-align: left;\n",
       "    }\n",
       "\n",
       "    .dataframe tbody tr th {\n",
       "        vertical-align: top;\n",
       "    }\n",
       "</style>\n",
       "<table border=\"1\" class=\"dataframe\">\n",
       "  <thead>\n",
       "    <tr style=\"text-align: right;\">\n",
       "      <th></th>\n",
       "      <th>userId</th>\n",
       "      <th>movieKey</th>\n",
       "      <th>rating</th>\n",
       "    </tr>\n",
       "  </thead>\n",
       "  <tbody>\n",
       "    <tr>\n",
       "      <th>0</th>\n",
       "      <td>1</td>\n",
       "      <td>30</td>\n",
       "      <td>-1.035437</td>\n",
       "    </tr>\n",
       "    <tr>\n",
       "      <th>1</th>\n",
       "      <td>1</td>\n",
       "      <td>870</td>\n",
       "      <td>-0.535437</td>\n",
       "    </tr>\n",
       "    <tr>\n",
       "      <th>2</th>\n",
       "      <td>1</td>\n",
       "      <td>897</td>\n",
       "      <td>-0.535437</td>\n",
       "    </tr>\n",
       "    <tr>\n",
       "      <th>3</th>\n",
       "      <td>1</td>\n",
       "      <td>947</td>\n",
       "      <td>-1.535437</td>\n",
       "    </tr>\n",
       "    <tr>\n",
       "      <th>4</th>\n",
       "      <td>1</td>\n",
       "      <td>975</td>\n",
       "      <td>0.464563</td>\n",
       "    </tr>\n",
       "  </tbody>\n",
       "</table>\n",
       "</div>"
      ],
      "text/plain": [
       "   userId  movieKey    rating\n",
       "0       1        30 -1.035437\n",
       "1       1       870 -0.535437\n",
       "2       1       897 -0.535437\n",
       "3       1       947 -1.535437\n",
       "4       1       975  0.464563"
      ]
     },
     "execution_count": 105,
     "metadata": {},
     "output_type": "execute_result"
    }
   ],
   "source": [
    "ratings_fin = ratings_fin[['userId','movieKey','rating']]\n",
    "ratings_fin.head()"
   ]
  },
  {
   "cell_type": "code",
   "execution_count": 106,
   "metadata": {},
   "outputs": [
    {
     "data": {
      "text/html": [
       "<div>\n",
       "<style>\n",
       "    .dataframe thead tr:only-child th {\n",
       "        text-align: right;\n",
       "    }\n",
       "\n",
       "    .dataframe thead th {\n",
       "        text-align: left;\n",
       "    }\n",
       "\n",
       "    .dataframe tbody tr th {\n",
       "        vertical-align: top;\n",
       "    }\n",
       "</style>\n",
       "<table border=\"1\" class=\"dataframe\">\n",
       "  <thead>\n",
       "    <tr style=\"text-align: right;\">\n",
       "      <th></th>\n",
       "      <th>0</th>\n",
       "      <th>1</th>\n",
       "      <th>2</th>\n",
       "    </tr>\n",
       "  </thead>\n",
       "  <tbody>\n",
       "    <tr>\n",
       "      <th>0</th>\n",
       "      <td>1</td>\n",
       "      <td>30</td>\n",
       "      <td>-1.035437</td>\n",
       "    </tr>\n",
       "    <tr>\n",
       "      <th>1</th>\n",
       "      <td>1</td>\n",
       "      <td>870</td>\n",
       "      <td>-0.535437</td>\n",
       "    </tr>\n",
       "    <tr>\n",
       "      <th>2</th>\n",
       "      <td>1</td>\n",
       "      <td>897</td>\n",
       "      <td>-0.535437</td>\n",
       "    </tr>\n",
       "    <tr>\n",
       "      <th>3</th>\n",
       "      <td>1</td>\n",
       "      <td>947</td>\n",
       "      <td>-1.535437</td>\n",
       "    </tr>\n",
       "    <tr>\n",
       "      <th>4</th>\n",
       "      <td>1</td>\n",
       "      <td>975</td>\n",
       "      <td>0.464563</td>\n",
       "    </tr>\n",
       "  </tbody>\n",
       "</table>\n",
       "</div>"
      ],
      "text/plain": [
       "   0    1         2\n",
       "0  1   30 -1.035437\n",
       "1  1  870 -0.535437\n",
       "2  1  897 -0.535437\n",
       "3  1  947 -1.535437\n",
       "4  1  975  0.464563"
      ]
     },
     "execution_count": 106,
     "metadata": {},
     "output_type": "execute_result"
    }
   ],
   "source": [
    "ratings_fin.columns = [0,1,2]\n",
    "ratings_fin.head()"
   ]
  },
  {
   "cell_type": "markdown",
   "metadata": {},
   "source": [
    "Setting this data as the training dataset "
   ]
  },
  {
   "cell_type": "code",
   "execution_count": 107,
   "metadata": {},
   "outputs": [
    {
     "data": {
      "text/plain": [
       "array([[  1.00000000e+00,   3.00000000e+01,  -1.03543684e+00],\n",
       "       [  1.00000000e+00,   8.70000000e+02,  -5.35436842e-01],\n",
       "       [  1.00000000e+00,   8.97000000e+02,  -5.35436842e-01],\n",
       "       ..., \n",
       "       [  6.24000000e+02,   7.60800000e+03,  -5.35436842e-01],\n",
       "       [  6.24000000e+02,   3.16600000e+03,   4.64563158e-01],\n",
       "       [  6.24000000e+02,   7.29600000e+03,  -5.35436842e-01]])"
      ]
     },
     "execution_count": 107,
     "metadata": {},
     "output_type": "execute_result"
    }
   ],
   "source": [
    "train = ratings_fin.values\n",
    "train"
   ]
  },
  {
   "cell_type": "markdown",
   "metadata": {},
   "source": [
    "Doing the same pre processing to the test dataset"
   ]
  },
  {
   "cell_type": "code",
   "execution_count": 462,
   "metadata": {},
   "outputs": [
    {
     "data": {
      "text/html": [
       "<div>\n",
       "<style>\n",
       "    .dataframe thead tr:only-child th {\n",
       "        text-align: right;\n",
       "    }\n",
       "\n",
       "    .dataframe thead th {\n",
       "        text-align: left;\n",
       "    }\n",
       "\n",
       "    .dataframe tbody tr th {\n",
       "        vertical-align: top;\n",
       "    }\n",
       "</style>\n",
       "<table border=\"1\" class=\"dataframe\">\n",
       "  <thead>\n",
       "    <tr style=\"text-align: right;\">\n",
       "      <th></th>\n",
       "      <th>0</th>\n",
       "      <th>1</th>\n",
       "      <th>2</th>\n",
       "      <th>movieId</th>\n",
       "      <th>movieKey</th>\n",
       "    </tr>\n",
       "  </thead>\n",
       "  <tbody>\n",
       "    <tr>\n",
       "      <th>0</th>\n",
       "      <td>624</td>\n",
       "      <td>102125</td>\n",
       "      <td>3.0</td>\n",
       "      <td>102125</td>\n",
       "      <td>7296</td>\n",
       "    </tr>\n",
       "    <tr>\n",
       "      <th>1</th>\n",
       "      <td>624</td>\n",
       "      <td>102165</td>\n",
       "      <td>2.0</td>\n",
       "      <td>102165</td>\n",
       "      <td>7693</td>\n",
       "    </tr>\n",
       "    <tr>\n",
       "      <th>2</th>\n",
       "      <td>624</td>\n",
       "      <td>102278</td>\n",
       "      <td>2.0</td>\n",
       "      <td>102278</td>\n",
       "      <td>3295</td>\n",
       "    </tr>\n",
       "    <tr>\n",
       "      <th>3</th>\n",
       "      <td>624</td>\n",
       "      <td>102378</td>\n",
       "      <td>1.5</td>\n",
       "      <td>102378</td>\n",
       "      <td>3379</td>\n",
       "    </tr>\n",
       "    <tr>\n",
       "      <th>4</th>\n",
       "      <td>624</td>\n",
       "      <td>102407</td>\n",
       "      <td>3.5</td>\n",
       "      <td>102407</td>\n",
       "      <td>3398</td>\n",
       "    </tr>\n",
       "  </tbody>\n",
       "</table>\n",
       "</div>"
      ],
      "text/plain": [
       "     0       1    2  movieId  movieKey\n",
       "0  624  102125  3.0   102125      7296\n",
       "1  624  102165  2.0   102165      7693\n",
       "2  624  102278  2.0   102278      3295\n",
       "3  624  102378  1.5   102378      3379\n",
       "4  624  102407  3.5   102407      3398"
      ]
     },
     "execution_count": 462,
     "metadata": {},
     "output_type": "execute_result"
    }
   ],
   "source": [
    "ratings_ml_test =  pd.read_csv('ratings_ml_test.csv', header= None)\n",
    "ratings_test_fin = pd.merge(ratings_ml_test,key_df,how = 'left', left_on = [1], right_on = ['movieId'])\n",
    "ratings_test_fin.head()"
   ]
  },
  {
   "cell_type": "code",
   "execution_count": 463,
   "metadata": {},
   "outputs": [
    {
     "data": {
      "text/html": [
       "<div>\n",
       "<style>\n",
       "    .dataframe thead tr:only-child th {\n",
       "        text-align: right;\n",
       "    }\n",
       "\n",
       "    .dataframe thead th {\n",
       "        text-align: left;\n",
       "    }\n",
       "\n",
       "    .dataframe tbody tr th {\n",
       "        vertical-align: top;\n",
       "    }\n",
       "</style>\n",
       "<table border=\"1\" class=\"dataframe\">\n",
       "  <thead>\n",
       "    <tr style=\"text-align: right;\">\n",
       "      <th></th>\n",
       "      <th>0</th>\n",
       "      <th>2</th>\n",
       "      <th>movieKey</th>\n",
       "    </tr>\n",
       "  </thead>\n",
       "  <tbody>\n",
       "    <tr>\n",
       "      <th>0</th>\n",
       "      <td>624</td>\n",
       "      <td>3.0</td>\n",
       "      <td>7296</td>\n",
       "    </tr>\n",
       "    <tr>\n",
       "      <th>1</th>\n",
       "      <td>624</td>\n",
       "      <td>2.0</td>\n",
       "      <td>7693</td>\n",
       "    </tr>\n",
       "    <tr>\n",
       "      <th>2</th>\n",
       "      <td>624</td>\n",
       "      <td>2.0</td>\n",
       "      <td>3295</td>\n",
       "    </tr>\n",
       "    <tr>\n",
       "      <th>3</th>\n",
       "      <td>624</td>\n",
       "      <td>1.5</td>\n",
       "      <td>3379</td>\n",
       "    </tr>\n",
       "    <tr>\n",
       "      <th>4</th>\n",
       "      <td>624</td>\n",
       "      <td>3.5</td>\n",
       "      <td>3398</td>\n",
       "    </tr>\n",
       "  </tbody>\n",
       "</table>\n",
       "</div>"
      ],
      "text/plain": [
       "     0    2  movieKey\n",
       "0  624  3.0      7296\n",
       "1  624  2.0      7693\n",
       "2  624  2.0      3295\n",
       "3  624  1.5      3379\n",
       "4  624  3.5      3398"
      ]
     },
     "execution_count": 463,
     "metadata": {},
     "output_type": "execute_result"
    }
   ],
   "source": [
    "del ratings_test_fin['movieId']\n",
    "del ratings_test_fin[1]\n",
    "ratings_test_fin.head()"
   ]
  },
  {
   "cell_type": "code",
   "execution_count": 464,
   "metadata": {},
   "outputs": [
    {
     "data": {
      "text/html": [
       "<div>\n",
       "<style>\n",
       "    .dataframe thead tr:only-child th {\n",
       "        text-align: right;\n",
       "    }\n",
       "\n",
       "    .dataframe thead th {\n",
       "        text-align: left;\n",
       "    }\n",
       "\n",
       "    .dataframe tbody tr th {\n",
       "        vertical-align: top;\n",
       "    }\n",
       "</style>\n",
       "<table border=\"1\" class=\"dataframe\">\n",
       "  <thead>\n",
       "    <tr style=\"text-align: right;\">\n",
       "      <th></th>\n",
       "      <th>0</th>\n",
       "      <th>movieKey</th>\n",
       "      <th>2</th>\n",
       "    </tr>\n",
       "  </thead>\n",
       "  <tbody>\n",
       "    <tr>\n",
       "      <th>0</th>\n",
       "      <td>624</td>\n",
       "      <td>7296</td>\n",
       "      <td>3.0</td>\n",
       "    </tr>\n",
       "    <tr>\n",
       "      <th>1</th>\n",
       "      <td>624</td>\n",
       "      <td>7693</td>\n",
       "      <td>2.0</td>\n",
       "    </tr>\n",
       "    <tr>\n",
       "      <th>2</th>\n",
       "      <td>624</td>\n",
       "      <td>3295</td>\n",
       "      <td>2.0</td>\n",
       "    </tr>\n",
       "    <tr>\n",
       "      <th>3</th>\n",
       "      <td>624</td>\n",
       "      <td>3379</td>\n",
       "      <td>1.5</td>\n",
       "    </tr>\n",
       "    <tr>\n",
       "      <th>4</th>\n",
       "      <td>624</td>\n",
       "      <td>3398</td>\n",
       "      <td>3.5</td>\n",
       "    </tr>\n",
       "  </tbody>\n",
       "</table>\n",
       "</div>"
      ],
      "text/plain": [
       "     0  movieKey    2\n",
       "0  624      7296  3.0\n",
       "1  624      7693  2.0\n",
       "2  624      3295  2.0\n",
       "3  624      3379  1.5\n",
       "4  624      3398  3.5"
      ]
     },
     "execution_count": 464,
     "metadata": {},
     "output_type": "execute_result"
    }
   ],
   "source": [
    "ratings_test_fin = ratings_test_fin[[0,'movieKey',2]]\n",
    "ratings_test_fin.head()"
   ]
  },
  {
   "cell_type": "code",
   "execution_count": 466,
   "metadata": {},
   "outputs": [
    {
     "data": {
      "text/html": [
       "<div>\n",
       "<style>\n",
       "    .dataframe thead tr:only-child th {\n",
       "        text-align: right;\n",
       "    }\n",
       "\n",
       "    .dataframe thead th {\n",
       "        text-align: left;\n",
       "    }\n",
       "\n",
       "    .dataframe tbody tr th {\n",
       "        vertical-align: top;\n",
       "    }\n",
       "</style>\n",
       "<table border=\"1\" class=\"dataframe\">\n",
       "  <thead>\n",
       "    <tr style=\"text-align: right;\">\n",
       "      <th></th>\n",
       "      <th>0</th>\n",
       "      <th>1</th>\n",
       "      <th>2</th>\n",
       "    </tr>\n",
       "  </thead>\n",
       "  <tbody>\n",
       "    <tr>\n",
       "      <th>0</th>\n",
       "      <td>624</td>\n",
       "      <td>7296</td>\n",
       "      <td>3.0</td>\n",
       "    </tr>\n",
       "    <tr>\n",
       "      <th>1</th>\n",
       "      <td>624</td>\n",
       "      <td>7693</td>\n",
       "      <td>2.0</td>\n",
       "    </tr>\n",
       "    <tr>\n",
       "      <th>2</th>\n",
       "      <td>624</td>\n",
       "      <td>3295</td>\n",
       "      <td>2.0</td>\n",
       "    </tr>\n",
       "    <tr>\n",
       "      <th>3</th>\n",
       "      <td>624</td>\n",
       "      <td>3379</td>\n",
       "      <td>1.5</td>\n",
       "    </tr>\n",
       "    <tr>\n",
       "      <th>4</th>\n",
       "      <td>624</td>\n",
       "      <td>3398</td>\n",
       "      <td>3.5</td>\n",
       "    </tr>\n",
       "  </tbody>\n",
       "</table>\n",
       "</div>"
      ],
      "text/plain": [
       "     0     1    2\n",
       "0  624  7296  3.0\n",
       "1  624  7693  2.0\n",
       "2  624  3295  2.0\n",
       "3  624  3379  1.5\n",
       "4  624  3398  3.5"
      ]
     },
     "execution_count": 466,
     "metadata": {},
     "output_type": "execute_result"
    }
   ],
   "source": [
    "ratings_test_fin.columns = [0,1,2]\n",
    "ratings_test_fin.head()"
   ]
  },
  {
   "cell_type": "markdown",
   "metadata": {},
   "source": [
    "## Preprocessing for test dataset\n",
    "Substracting the mean rating from each rating in the test dataset"
   ]
  },
  {
   "cell_type": "code",
   "execution_count": 112,
   "metadata": {
    "collapsed": true
   },
   "outputs": [],
   "source": [
    "ratings_test_fin[2] = ratings_test_fin[2] - ratings_test_fin[2].mean()"
   ]
  },
  {
   "cell_type": "code",
   "execution_count": 113,
   "metadata": {},
   "outputs": [
    {
     "data": {
      "text/html": [
       "<div>\n",
       "<style>\n",
       "    .dataframe thead tr:only-child th {\n",
       "        text-align: right;\n",
       "    }\n",
       "\n",
       "    .dataframe thead th {\n",
       "        text-align: left;\n",
       "    }\n",
       "\n",
       "    .dataframe tbody tr th {\n",
       "        vertical-align: top;\n",
       "    }\n",
       "</style>\n",
       "<table border=\"1\" class=\"dataframe\">\n",
       "  <thead>\n",
       "    <tr style=\"text-align: right;\">\n",
       "      <th></th>\n",
       "      <th>0</th>\n",
       "      <th>1</th>\n",
       "      <th>2</th>\n",
       "    </tr>\n",
       "  </thead>\n",
       "  <tbody>\n",
       "    <tr>\n",
       "      <th>0</th>\n",
       "      <td>624</td>\n",
       "      <td>7296</td>\n",
       "      <td>-0.698601</td>\n",
       "    </tr>\n",
       "    <tr>\n",
       "      <th>1</th>\n",
       "      <td>624</td>\n",
       "      <td>7693</td>\n",
       "      <td>-1.698601</td>\n",
       "    </tr>\n",
       "    <tr>\n",
       "      <th>2</th>\n",
       "      <td>624</td>\n",
       "      <td>3295</td>\n",
       "      <td>-1.698601</td>\n",
       "    </tr>\n",
       "    <tr>\n",
       "      <th>3</th>\n",
       "      <td>624</td>\n",
       "      <td>3379</td>\n",
       "      <td>-2.198601</td>\n",
       "    </tr>\n",
       "    <tr>\n",
       "      <th>4</th>\n",
       "      <td>624</td>\n",
       "      <td>3398</td>\n",
       "      <td>-0.198601</td>\n",
       "    </tr>\n",
       "  </tbody>\n",
       "</table>\n",
       "</div>"
      ],
      "text/plain": [
       "     0     1         2\n",
       "0  624  7296 -0.698601\n",
       "1  624  7693 -1.698601\n",
       "2  624  3295 -1.698601\n",
       "3  624  3379 -2.198601\n",
       "4  624  3398 -0.198601"
      ]
     },
     "execution_count": 113,
     "metadata": {},
     "output_type": "execute_result"
    }
   ],
   "source": [
    "ratings_test_fin.head()"
   ]
  },
  {
   "cell_type": "code",
   "execution_count": 114,
   "metadata": {},
   "outputs": [
    {
     "data": {
      "text/plain": [
       "array([[  6.24000000e+02,   7.29600000e+03,  -6.98601399e-01],\n",
       "       [  6.24000000e+02,   7.69300000e+03,  -1.69860140e+00],\n",
       "       [  6.24000000e+02,   3.29500000e+03,  -1.69860140e+00],\n",
       "       ..., \n",
       "       [  6.71000000e+02,   4.85000000e+03,   3.01398601e-01],\n",
       "       [  6.71000000e+02,   4.86300000e+03,  -1.19860140e+00],\n",
       "       [  6.71000000e+02,   4.96000000e+03,  -1.98601399e-01]])"
      ]
     },
     "execution_count": 114,
     "metadata": {},
     "output_type": "execute_result"
    }
   ],
   "source": [
    "test = ratings_test_fin.values\n",
    "test"
   ]
  },
  {
   "cell_type": "markdown",
   "metadata": {},
   "source": [
    "## Converting data into a user item rating matrix"
   ]
  },
  {
   "cell_type": "code",
   "execution_count": 115,
   "metadata": {
    "collapsed": true
   },
   "outputs": [],
   "source": [
    "train_matrix = np.zeros((671,9066))\n",
    "\n",
    "for i in range(train.shape[0]):\n",
    "    train_matrix[int(train[i][0])-1][int(train[i][1])-1] = train[i][2]"
   ]
  },
  {
   "cell_type": "code",
   "execution_count": 116,
   "metadata": {},
   "outputs": [
    {
     "data": {
      "text/plain": [
       "array([[ 0.,  0.,  0., ...,  0.,  0.,  0.],\n",
       "       [ 0.,  0.,  0., ...,  0.,  0.,  0.],\n",
       "       [ 0.,  0.,  0., ...,  0.,  0.,  0.],\n",
       "       ..., \n",
       "       [ 0.,  0.,  0., ...,  0.,  0.,  0.],\n",
       "       [ 0.,  0.,  0., ...,  0.,  0.,  0.],\n",
       "       [ 0.,  0.,  0., ...,  0.,  0.,  0.]])"
      ]
     },
     "execution_count": 116,
     "metadata": {},
     "output_type": "execute_result"
    }
   ],
   "source": [
    "train_matrix"
   ]
  },
  {
   "cell_type": "markdown",
   "metadata": {},
   "source": [
    "Converting the matrix into a Dataframe"
   ]
  },
  {
   "cell_type": "code",
   "execution_count": 151,
   "metadata": {},
   "outputs": [
    {
     "data": {
      "text/html": [
       "<div>\n",
       "<style>\n",
       "    .dataframe thead tr:only-child th {\n",
       "        text-align: right;\n",
       "    }\n",
       "\n",
       "    .dataframe thead th {\n",
       "        text-align: left;\n",
       "    }\n",
       "\n",
       "    .dataframe tbody tr th {\n",
       "        vertical-align: top;\n",
       "    }\n",
       "</style>\n",
       "<table border=\"1\" class=\"dataframe\">\n",
       "  <thead>\n",
       "    <tr style=\"text-align: right;\">\n",
       "      <th></th>\n",
       "      <th>0</th>\n",
       "      <th>1</th>\n",
       "      <th>2</th>\n",
       "      <th>3</th>\n",
       "      <th>4</th>\n",
       "      <th>5</th>\n",
       "      <th>6</th>\n",
       "      <th>7</th>\n",
       "      <th>8</th>\n",
       "      <th>9</th>\n",
       "      <th>...</th>\n",
       "      <th>9056</th>\n",
       "      <th>9057</th>\n",
       "      <th>9058</th>\n",
       "      <th>9059</th>\n",
       "      <th>9060</th>\n",
       "      <th>9061</th>\n",
       "      <th>9062</th>\n",
       "      <th>9063</th>\n",
       "      <th>9064</th>\n",
       "      <th>9065</th>\n",
       "    </tr>\n",
       "  </thead>\n",
       "  <tbody>\n",
       "    <tr>\n",
       "      <th>0</th>\n",
       "      <td>0.0</td>\n",
       "      <td>0.000000</td>\n",
       "      <td>0.0</td>\n",
       "      <td>0.0</td>\n",
       "      <td>0.0</td>\n",
       "      <td>0.0</td>\n",
       "      <td>0.0</td>\n",
       "      <td>0.0</td>\n",
       "      <td>0.000000</td>\n",
       "      <td>0.0</td>\n",
       "      <td>...</td>\n",
       "      <td>0.0</td>\n",
       "      <td>0.0</td>\n",
       "      <td>0.0</td>\n",
       "      <td>0.0</td>\n",
       "      <td>0.0</td>\n",
       "      <td>0.0</td>\n",
       "      <td>0.0</td>\n",
       "      <td>0.0</td>\n",
       "      <td>0.0</td>\n",
       "      <td>0.0</td>\n",
       "    </tr>\n",
       "    <tr>\n",
       "      <th>1</th>\n",
       "      <td>0.0</td>\n",
       "      <td>0.000000</td>\n",
       "      <td>0.0</td>\n",
       "      <td>0.0</td>\n",
       "      <td>0.0</td>\n",
       "      <td>0.0</td>\n",
       "      <td>0.0</td>\n",
       "      <td>0.0</td>\n",
       "      <td>0.464563</td>\n",
       "      <td>0.0</td>\n",
       "      <td>...</td>\n",
       "      <td>0.0</td>\n",
       "      <td>0.0</td>\n",
       "      <td>0.0</td>\n",
       "      <td>0.0</td>\n",
       "      <td>0.0</td>\n",
       "      <td>0.0</td>\n",
       "      <td>0.0</td>\n",
       "      <td>0.0</td>\n",
       "      <td>0.0</td>\n",
       "      <td>0.0</td>\n",
       "    </tr>\n",
       "    <tr>\n",
       "      <th>2</th>\n",
       "      <td>0.0</td>\n",
       "      <td>0.000000</td>\n",
       "      <td>0.0</td>\n",
       "      <td>0.0</td>\n",
       "      <td>0.0</td>\n",
       "      <td>0.0</td>\n",
       "      <td>0.0</td>\n",
       "      <td>0.0</td>\n",
       "      <td>0.000000</td>\n",
       "      <td>0.0</td>\n",
       "      <td>...</td>\n",
       "      <td>0.0</td>\n",
       "      <td>0.0</td>\n",
       "      <td>0.0</td>\n",
       "      <td>0.0</td>\n",
       "      <td>0.0</td>\n",
       "      <td>0.0</td>\n",
       "      <td>0.0</td>\n",
       "      <td>0.0</td>\n",
       "      <td>0.0</td>\n",
       "      <td>0.0</td>\n",
       "    </tr>\n",
       "    <tr>\n",
       "      <th>3</th>\n",
       "      <td>0.0</td>\n",
       "      <td>0.000000</td>\n",
       "      <td>0.0</td>\n",
       "      <td>0.0</td>\n",
       "      <td>0.0</td>\n",
       "      <td>0.0</td>\n",
       "      <td>0.0</td>\n",
       "      <td>0.0</td>\n",
       "      <td>0.464563</td>\n",
       "      <td>0.0</td>\n",
       "      <td>...</td>\n",
       "      <td>0.0</td>\n",
       "      <td>0.0</td>\n",
       "      <td>0.0</td>\n",
       "      <td>0.0</td>\n",
       "      <td>0.0</td>\n",
       "      <td>0.0</td>\n",
       "      <td>0.0</td>\n",
       "      <td>0.0</td>\n",
       "      <td>0.0</td>\n",
       "      <td>0.0</td>\n",
       "    </tr>\n",
       "    <tr>\n",
       "      <th>4</th>\n",
       "      <td>0.0</td>\n",
       "      <td>0.464563</td>\n",
       "      <td>0.0</td>\n",
       "      <td>0.0</td>\n",
       "      <td>0.0</td>\n",
       "      <td>0.0</td>\n",
       "      <td>0.0</td>\n",
       "      <td>0.0</td>\n",
       "      <td>0.000000</td>\n",
       "      <td>0.0</td>\n",
       "      <td>...</td>\n",
       "      <td>0.0</td>\n",
       "      <td>0.0</td>\n",
       "      <td>0.0</td>\n",
       "      <td>0.0</td>\n",
       "      <td>0.0</td>\n",
       "      <td>0.0</td>\n",
       "      <td>0.0</td>\n",
       "      <td>0.0</td>\n",
       "      <td>0.0</td>\n",
       "      <td>0.0</td>\n",
       "    </tr>\n",
       "  </tbody>\n",
       "</table>\n",
       "<p>5 rows × 9066 columns</p>\n",
       "</div>"
      ],
      "text/plain": [
       "   0         1     2     3     4     5     6     7         8     9     ...   \\\n",
       "0   0.0  0.000000   0.0   0.0   0.0   0.0   0.0   0.0  0.000000   0.0  ...    \n",
       "1   0.0  0.000000   0.0   0.0   0.0   0.0   0.0   0.0  0.464563   0.0  ...    \n",
       "2   0.0  0.000000   0.0   0.0   0.0   0.0   0.0   0.0  0.000000   0.0  ...    \n",
       "3   0.0  0.000000   0.0   0.0   0.0   0.0   0.0   0.0  0.464563   0.0  ...    \n",
       "4   0.0  0.464563   0.0   0.0   0.0   0.0   0.0   0.0  0.000000   0.0  ...    \n",
       "\n",
       "   9056  9057  9058  9059  9060  9061  9062  9063  9064  9065  \n",
       "0   0.0   0.0   0.0   0.0   0.0   0.0   0.0   0.0   0.0   0.0  \n",
       "1   0.0   0.0   0.0   0.0   0.0   0.0   0.0   0.0   0.0   0.0  \n",
       "2   0.0   0.0   0.0   0.0   0.0   0.0   0.0   0.0   0.0   0.0  \n",
       "3   0.0   0.0   0.0   0.0   0.0   0.0   0.0   0.0   0.0   0.0  \n",
       "4   0.0   0.0   0.0   0.0   0.0   0.0   0.0   0.0   0.0   0.0  \n",
       "\n",
       "[5 rows x 9066 columns]"
      ]
     },
     "execution_count": 151,
     "metadata": {},
     "output_type": "execute_result"
    }
   ],
   "source": [
    "train_matrix_df = pd.DataFrame(train_matrix)\n",
    "train_matrix_df.head()"
   ]
  },
  {
   "cell_type": "code",
   "execution_count": 117,
   "metadata": {
    "collapsed": true
   },
   "outputs": [],
   "source": [
    "# Since ratings cannot be 0 we replace all nan's with 0s so as to not use them\n",
    "ind_matrix = train_matrix.copy()\n",
    "ind_matrix[ind_matrix!=0]=1"
   ]
  },
  {
   "cell_type": "code",
   "execution_count": 118,
   "metadata": {
    "collapsed": true
   },
   "outputs": [],
   "source": [
    "def RMSE(u,v,test):\n",
    "    s=0\n",
    "    for i in range(test.shape[0]):\n",
    "        pred=u[int(test[i][0])-1].dot(v[int(test[i][1])-1])\n",
    "        s+=(pred-test[i][2])**2\n",
    "\n",
    "    return (s/test.shape[0])**(0.5)"
   ]
  },
  {
   "cell_type": "markdown",
   "metadata": {},
   "source": [
    "Constructing the PMF Model"
   ]
  },
  {
   "cell_type": "code",
   "execution_count": 119,
   "metadata": {},
   "outputs": [
    {
     "name": "stdout",
     "output_type": "stream",
     "text": [
      "0\n",
      "10\n",
      "20\n",
      "30\n",
      "40\n",
      "50\n",
      "60\n",
      "70\n",
      "80\n",
      "90\n",
      "0\n",
      "10\n",
      "20\n",
      "30\n",
      "40\n",
      "50\n",
      "60\n",
      "70\n",
      "80\n",
      "90\n",
      "0\n",
      "10\n",
      "20\n",
      "30\n",
      "40\n",
      "50\n",
      "60\n",
      "70\n",
      "80\n",
      "90\n",
      "0\n",
      "10\n",
      "20\n",
      "30\n",
      "40\n",
      "50\n",
      "60\n",
      "70\n",
      "80\n",
      "90\n",
      "0\n",
      "10\n",
      "20\n",
      "30\n",
      "40\n",
      "50\n",
      "60\n",
      "70\n",
      "80\n",
      "90\n",
      "0\n",
      "10\n",
      "20\n",
      "30\n",
      "40\n",
      "50\n",
      "60\n",
      "70\n",
      "80\n",
      "90\n",
      "0\n",
      "10\n",
      "20\n",
      "30\n",
      "40\n",
      "50\n",
      "60\n",
      "70\n",
      "80\n",
      "90\n",
      "0\n",
      "10\n",
      "20\n",
      "30\n",
      "40\n",
      "50\n",
      "60\n",
      "70\n",
      "80\n",
      "90\n",
      "0\n",
      "10\n",
      "20\n",
      "30\n",
      "40\n",
      "50\n",
      "60\n",
      "70\n",
      "80\n",
      "90\n",
      "0\n",
      "10\n",
      "20\n",
      "30\n",
      "40\n",
      "50\n",
      "60\n",
      "70\n",
      "80\n",
      "90\n"
     ]
    }
   ],
   "source": [
    "\n",
    "N1 = train_matrix.shape[0]\n",
    "N2 = train_matrix.shape[1]\n",
    "\n",
    "# Assume a Gaussian distribution for user and object location vectors\n",
    "sigma2 = 0.25\n",
    "d = 10\n",
    "lam = 1\n",
    "\n",
    "mean = np.zeros(d)\n",
    "cov = lam*np.diag(np.ones(d))\n",
    "objective_all=[]\n",
    "RMSE_all = []\n",
    "\n",
    "for runs in range(10):\n",
    "\n",
    "    # Initialize u and v (Assumption: Gaussian distribution)\n",
    "    u = np.random.multivariate_normal(mean,cov,N1)\n",
    "    v = np.random.multivariate_normal(mean,cov,N2) \n",
    "    objective=[]\n",
    "\n",
    "# Coordinate decent for optimizing the log-liklihood\n",
    "\n",
    "    for itr in range(100):\n",
    "        if itr % 10 ==0:\n",
    "            print itr\n",
    "            \n",
    "        # Update u\n",
    "        for i in range(N1):\n",
    "            sum1 = np.zeros((10,10))\n",
    "            sum2 = np.zeros(10)\n",
    "\n",
    "            for j in np.where(ind_matrix[i]==1)[0]:\n",
    "                sum1 = sum1 + np.outer(v[j],v[j])\n",
    "                sum2 = sum2 + (train_matrix[i][j])*v[j]\n",
    "\n",
    "            u[i] = ((nplg.inv(sigma2*cov + sum1)).dot(sum2.reshape(10,1))).flatten()\n",
    "\n",
    "        # Update v\n",
    "        for i in range(N2):\n",
    "            sum1 = np.zeros((10,10))\n",
    "            sum2 = np.zeros(10)\n",
    "\n",
    "            for j in np.where(ind_matrix[:,i]==1)[0]:\n",
    "                sum1 = sum1 + np.outer(u[j],u[j])\n",
    "                sum2 = sum2 + train_matrix[j][i]*u[j]\n",
    "\n",
    "            v[i] = ((nplg.inv(sigma2*cov + sum1)).dot(sum2.reshape(10,1))).flatten()\n",
    "\n",
    "        obj = - np.sum((1.0/(2*sigma2))*np.square(train_matrix - (u.dot(np.transpose(v)))*ind_matrix)) \\\n",
    "              - np.sum((lam/2.0)*np.square(nplg.norm(u,2,1)))- np.sum((lam/2.0)*np.square(nplg.norm(v,2,1)))\n",
    "            \n",
    "        objective.append(obj)\n",
    "    obj_best = -float('Inf')\n",
    "    # Update best objective function value and corresponding u and v\n",
    "    if obj_best <= objective[-1]:\n",
    "        obj_best = objective[-1]\n",
    "        v_best = v.copy()\n",
    "        u_best = u.copy()\n",
    "        \n",
    "    objective_all.append(objective)\n",
    "    RMSE_all.append(RMSE(u,v,test))\n",
    "\n",
    "    "
   ]
  },
  {
   "cell_type": "markdown",
   "metadata": {},
   "source": [
    "## Final Item feature matrix"
   ]
  },
  {
   "cell_type": "code",
   "execution_count": 120,
   "metadata": {},
   "outputs": [
    {
     "data": {
      "text/plain": [
       "array([[ 0.18168196,  0.37970492,  0.08288368, ...,  0.09697879,\n",
       "        -0.03102561, -0.05892977],\n",
       "       [ 0.86248056,  0.19019513,  0.00859674, ...,  0.70921804,\n",
       "         0.32818513, -0.45794892],\n",
       "       [ 0.49109631,  0.61473904, -0.30171351, ..., -0.58360569,\n",
       "        -0.43990826, -0.83891317],\n",
       "       ..., \n",
       "       [ 0.00583529, -0.00661926,  0.00344763, ..., -0.00145984,\n",
       "        -0.00358124,  0.0051443 ],\n",
       "       [ 0.30653327, -0.07145226,  0.1304083 , ..., -0.17021568,\n",
       "        -0.31974436, -0.30914019],\n",
       "       [-0.05617365,  0.37830171, -0.24638162, ..., -0.13048572,\n",
       "         0.04650167, -0.04184024]])"
      ]
     },
     "execution_count": 120,
     "metadata": {},
     "output_type": "execute_result"
    }
   ],
   "source": [
    "v_best"
   ]
  },
  {
   "cell_type": "markdown",
   "metadata": {},
   "source": [
    "# Hyper parameter tunning "
   ]
  },
  {
   "cell_type": "markdown",
   "metadata": {},
   "source": [
    "## Plotting convergence of Log-Liklihood with iterations"
   ]
  },
  {
   "cell_type": "code",
   "execution_count": 483,
   "metadata": {},
   "outputs": [
    {
     "data": {
      "image/png": "[encoded data removed]",
      "text/plain": [
       "<matplotlib.figure.Figure at 0x1a2b9af810>"
      ]
     },
     "metadata": {},
     "output_type": "display_data"
    }
   ],
   "source": [
    "\n",
    "sns.set_style(\"white\")\n",
    "plt.figure(figsize=(12,10))\n",
    "plt.title(\"Log - Likelihood Vs. Iterations\", fontsize = 18)\n",
    "plt.xlabel(\"Iterations\",fontsize = 14)\n",
    "plt.ylabel(\"Log-Likelihood\",fontsize = 14)\n",
    "run=1\n",
    "for obj in objective_all:    \n",
    "    plt.plot(range(1,100),obj[1:],label=\"Run - \" + str(run))\n",
    "    plt.legend(fontsize = 14)\n",
    "    run=run+1\n",
    "    \n",
    "    \n",
    "plt.savefig('log_likelihood_iter.png')"
   ]
  },
  {
   "cell_type": "markdown",
   "metadata": {},
   "source": [
    "The log-liklihood starts converging at close to 25-30 iterations"
   ]
  },
  {
   "cell_type": "markdown",
   "metadata": {},
   "source": [
    "# Model Evaluation"
   ]
  },
  {
   "cell_type": "markdown",
   "metadata": {},
   "source": [
    "## 1. Model accuracy: RMSE measure"
   ]
  },
  {
   "cell_type": "code",
   "execution_count": 272,
   "metadata": {},
   "outputs": [
    {
     "data": {
      "text/html": [
       "<div>\n",
       "<style>\n",
       "    .dataframe thead tr:only-child th {\n",
       "        text-align: right;\n",
       "    }\n",
       "\n",
       "    .dataframe thead th {\n",
       "        text-align: left;\n",
       "    }\n",
       "\n",
       "    .dataframe tbody tr th {\n",
       "        vertical-align: top;\n",
       "    }\n",
       "</style>\n",
       "<table border=\"1\" class=\"dataframe\">\n",
       "  <thead>\n",
       "    <tr style=\"text-align: right;\">\n",
       "      <th></th>\n",
       "      <th>Run</th>\n",
       "      <th>Objective</th>\n",
       "      <th>RMSE</th>\n",
       "    </tr>\n",
       "  </thead>\n",
       "  <tbody>\n",
       "    <tr>\n",
       "      <th>0</th>\n",
       "      <td>3</td>\n",
       "      <td>-52603.0</td>\n",
       "      <td>0.96</td>\n",
       "    </tr>\n",
       "    <tr>\n",
       "      <th>1</th>\n",
       "      <td>6</td>\n",
       "      <td>-52514.0</td>\n",
       "      <td>0.97</td>\n",
       "    </tr>\n",
       "    <tr>\n",
       "      <th>2</th>\n",
       "      <td>4</td>\n",
       "      <td>-52480.0</td>\n",
       "      <td>0.97</td>\n",
       "    </tr>\n",
       "    <tr>\n",
       "      <th>3</th>\n",
       "      <td>1</td>\n",
       "      <td>-52253.0</td>\n",
       "      <td>0.97</td>\n",
       "    </tr>\n",
       "    <tr>\n",
       "      <th>4</th>\n",
       "      <td>7</td>\n",
       "      <td>-52307.0</td>\n",
       "      <td>0.97</td>\n",
       "    </tr>\n",
       "    <tr>\n",
       "      <th>5</th>\n",
       "      <td>5</td>\n",
       "      <td>-52666.0</td>\n",
       "      <td>0.97</td>\n",
       "    </tr>\n",
       "    <tr>\n",
       "      <th>6</th>\n",
       "      <td>10</td>\n",
       "      <td>-52520.0</td>\n",
       "      <td>0.97</td>\n",
       "    </tr>\n",
       "    <tr>\n",
       "      <th>7</th>\n",
       "      <td>2</td>\n",
       "      <td>-52398.0</td>\n",
       "      <td>0.97</td>\n",
       "    </tr>\n",
       "    <tr>\n",
       "      <th>8</th>\n",
       "      <td>8</td>\n",
       "      <td>-52468.0</td>\n",
       "      <td>0.97</td>\n",
       "    </tr>\n",
       "    <tr>\n",
       "      <th>9</th>\n",
       "      <td>9</td>\n",
       "      <td>-52680.0</td>\n",
       "      <td>0.97</td>\n",
       "    </tr>\n",
       "  </tbody>\n",
       "</table>\n",
       "</div>"
      ],
      "text/plain": [
       "   Run  Objective  RMSE\n",
       "0    3   -52603.0  0.96\n",
       "1    6   -52514.0  0.97\n",
       "2    4   -52480.0  0.97\n",
       "3    1   -52253.0  0.97\n",
       "4    7   -52307.0  0.97\n",
       "5    5   -52666.0  0.97\n",
       "6   10   -52520.0  0.97\n",
       "7    2   -52398.0  0.97\n",
       "8    8   -52468.0  0.97\n",
       "9    9   -52680.0  0.97"
      ]
     },
     "execution_count": 272,
     "metadata": {},
     "output_type": "execute_result"
    }
   ],
   "source": [
    "# # RMSE Table\n",
    "# Sort Objective function by RMSE and store in dataframe\n",
    "\n",
    "RMSE_all = np.array(RMSE_all)\n",
    "RMSE_sorted = RMSE_all[np.argsort(RMSE_all)]\n",
    "objective_all = np.array(objective_all)\n",
    "\n",
    "RMSE_df = pd.DataFrame()\n",
    "RMSE_df['Run'] = np.argsort(RMSE_all)+1\n",
    "RMSE_df['Objective'] = objective_all[np.argsort(RMSE_all),-1].round()\n",
    "RMSE_df['RMSE'] = RMSE_sorted.round(2)\n",
    "RMSE_df"
   ]
  },
  {
   "cell_type": "markdown",
   "metadata": {},
   "source": [
    "## Run #3 gives the best RMSE of 0.96. "
   ]
  },
  {
   "cell_type": "code",
   "execution_count": 131,
   "metadata": {
    "collapsed": true
   },
   "outputs": [],
   "source": [
    "v_best_df = pd.DataFrame(v_best)\n",
    "v_best_df.to_csv(\"v_best_df.csv\")"
   ]
  },
  {
   "cell_type": "code",
   "execution_count": 128,
   "metadata": {},
   "outputs": [
    {
     "data": {
      "text/html": [
       "<div>\n",
       "<style>\n",
       "    .dataframe thead tr:only-child th {\n",
       "        text-align: right;\n",
       "    }\n",
       "\n",
       "    .dataframe thead th {\n",
       "        text-align: left;\n",
       "    }\n",
       "\n",
       "    .dataframe tbody tr th {\n",
       "        vertical-align: top;\n",
       "    }\n",
       "</style>\n",
       "<table border=\"1\" class=\"dataframe\">\n",
       "  <thead>\n",
       "    <tr style=\"text-align: right;\">\n",
       "      <th></th>\n",
       "      <th>0</th>\n",
       "      <th>1</th>\n",
       "      <th>2</th>\n",
       "      <th>3</th>\n",
       "      <th>4</th>\n",
       "      <th>5</th>\n",
       "      <th>6</th>\n",
       "      <th>7</th>\n",
       "      <th>8</th>\n",
       "      <th>9</th>\n",
       "    </tr>\n",
       "  </thead>\n",
       "  <tbody>\n",
       "    <tr>\n",
       "      <th>0</th>\n",
       "      <td>0.181682</td>\n",
       "      <td>0.379705</td>\n",
       "      <td>0.082884</td>\n",
       "      <td>0.068724</td>\n",
       "      <td>0.518867</td>\n",
       "      <td>-0.058651</td>\n",
       "      <td>0.184970</td>\n",
       "      <td>0.096979</td>\n",
       "      <td>-0.031026</td>\n",
       "      <td>-0.058930</td>\n",
       "    </tr>\n",
       "    <tr>\n",
       "      <th>1</th>\n",
       "      <td>0.862481</td>\n",
       "      <td>0.190195</td>\n",
       "      <td>0.008597</td>\n",
       "      <td>0.015118</td>\n",
       "      <td>0.206916</td>\n",
       "      <td>-0.040701</td>\n",
       "      <td>0.187284</td>\n",
       "      <td>0.709218</td>\n",
       "      <td>0.328185</td>\n",
       "      <td>-0.457949</td>\n",
       "    </tr>\n",
       "    <tr>\n",
       "      <th>2</th>\n",
       "      <td>0.491096</td>\n",
       "      <td>0.614739</td>\n",
       "      <td>-0.301714</td>\n",
       "      <td>-0.239829</td>\n",
       "      <td>-0.587208</td>\n",
       "      <td>-0.451638</td>\n",
       "      <td>0.560999</td>\n",
       "      <td>-0.583606</td>\n",
       "      <td>-0.439908</td>\n",
       "      <td>-0.838913</td>\n",
       "    </tr>\n",
       "    <tr>\n",
       "      <th>3</th>\n",
       "      <td>0.081438</td>\n",
       "      <td>0.539114</td>\n",
       "      <td>0.417587</td>\n",
       "      <td>0.424071</td>\n",
       "      <td>0.160224</td>\n",
       "      <td>0.046398</td>\n",
       "      <td>0.407351</td>\n",
       "      <td>-0.692606</td>\n",
       "      <td>0.027667</td>\n",
       "      <td>0.179440</td>\n",
       "    </tr>\n",
       "    <tr>\n",
       "      <th>4</th>\n",
       "      <td>-0.306434</td>\n",
       "      <td>0.073493</td>\n",
       "      <td>0.350136</td>\n",
       "      <td>-0.081835</td>\n",
       "      <td>0.537911</td>\n",
       "      <td>0.149230</td>\n",
       "      <td>-0.229356</td>\n",
       "      <td>-0.241654</td>\n",
       "      <td>0.147249</td>\n",
       "      <td>0.065574</td>\n",
       "    </tr>\n",
       "  </tbody>\n",
       "</table>\n",
       "</div>"
      ],
      "text/plain": [
       "          0         1         2         3         4         5         6  \\\n",
       "0  0.181682  0.379705  0.082884  0.068724  0.518867 -0.058651  0.184970   \n",
       "1  0.862481  0.190195  0.008597  0.015118  0.206916 -0.040701  0.187284   \n",
       "2  0.491096  0.614739 -0.301714 -0.239829 -0.587208 -0.451638  0.560999   \n",
       "3  0.081438  0.539114  0.417587  0.424071  0.160224  0.046398  0.407351   \n",
       "4 -0.306434  0.073493  0.350136 -0.081835  0.537911  0.149230 -0.229356   \n",
       "\n",
       "          7         8         9  \n",
       "0  0.096979 -0.031026 -0.058930  \n",
       "1  0.709218  0.328185 -0.457949  \n",
       "2 -0.583606 -0.439908 -0.838913  \n",
       "3 -0.692606  0.027667  0.179440  \n",
       "4 -0.241654  0.147249  0.065574  "
      ]
     },
     "execution_count": 128,
     "metadata": {},
     "output_type": "execute_result"
    }
   ],
   "source": [
    "v_best_df.head()"
   ]
  },
  {
   "cell_type": "code",
   "execution_count": 415,
   "metadata": {},
   "outputs": [
    {
     "data": {
      "text/html": [
       "<div>\n",
       "<style>\n",
       "    .dataframe thead tr:only-child th {\n",
       "        text-align: right;\n",
       "    }\n",
       "\n",
       "    .dataframe thead th {\n",
       "        text-align: left;\n",
       "    }\n",
       "\n",
       "    .dataframe tbody tr th {\n",
       "        vertical-align: top;\n",
       "    }\n",
       "</style>\n",
       "<table border=\"1\" class=\"dataframe\">\n",
       "  <thead>\n",
       "    <tr style=\"text-align: right;\">\n",
       "      <th></th>\n",
       "      <th>0</th>\n",
       "      <th>1</th>\n",
       "      <th>2</th>\n",
       "      <th>3</th>\n",
       "      <th>4</th>\n",
       "      <th>5</th>\n",
       "      <th>6</th>\n",
       "      <th>7</th>\n",
       "      <th>8</th>\n",
       "      <th>9</th>\n",
       "      <th>movieKey</th>\n",
       "    </tr>\n",
       "  </thead>\n",
       "  <tbody>\n",
       "    <tr>\n",
       "      <th>0</th>\n",
       "      <td>0.181682</td>\n",
       "      <td>0.379705</td>\n",
       "      <td>0.082884</td>\n",
       "      <td>0.068724</td>\n",
       "      <td>0.518867</td>\n",
       "      <td>-0.058651</td>\n",
       "      <td>0.184970</td>\n",
       "      <td>0.096979</td>\n",
       "      <td>-0.031026</td>\n",
       "      <td>-0.058930</td>\n",
       "      <td>0</td>\n",
       "    </tr>\n",
       "    <tr>\n",
       "      <th>1</th>\n",
       "      <td>0.862481</td>\n",
       "      <td>0.190195</td>\n",
       "      <td>0.008597</td>\n",
       "      <td>0.015118</td>\n",
       "      <td>0.206916</td>\n",
       "      <td>-0.040701</td>\n",
       "      <td>0.187284</td>\n",
       "      <td>0.709218</td>\n",
       "      <td>0.328185</td>\n",
       "      <td>-0.457949</td>\n",
       "      <td>1</td>\n",
       "    </tr>\n",
       "    <tr>\n",
       "      <th>2</th>\n",
       "      <td>0.491096</td>\n",
       "      <td>0.614739</td>\n",
       "      <td>-0.301714</td>\n",
       "      <td>-0.239829</td>\n",
       "      <td>-0.587208</td>\n",
       "      <td>-0.451638</td>\n",
       "      <td>0.560999</td>\n",
       "      <td>-0.583606</td>\n",
       "      <td>-0.439908</td>\n",
       "      <td>-0.838913</td>\n",
       "      <td>2</td>\n",
       "    </tr>\n",
       "    <tr>\n",
       "      <th>3</th>\n",
       "      <td>0.081438</td>\n",
       "      <td>0.539114</td>\n",
       "      <td>0.417587</td>\n",
       "      <td>0.424071</td>\n",
       "      <td>0.160224</td>\n",
       "      <td>0.046398</td>\n",
       "      <td>0.407351</td>\n",
       "      <td>-0.692606</td>\n",
       "      <td>0.027667</td>\n",
       "      <td>0.179440</td>\n",
       "      <td>3</td>\n",
       "    </tr>\n",
       "    <tr>\n",
       "      <th>4</th>\n",
       "      <td>-0.306434</td>\n",
       "      <td>0.073493</td>\n",
       "      <td>0.350136</td>\n",
       "      <td>-0.081835</td>\n",
       "      <td>0.537911</td>\n",
       "      <td>0.149230</td>\n",
       "      <td>-0.229356</td>\n",
       "      <td>-0.241654</td>\n",
       "      <td>0.147249</td>\n",
       "      <td>0.065574</td>\n",
       "      <td>4</td>\n",
       "    </tr>\n",
       "  </tbody>\n",
       "</table>\n",
       "</div>"
      ],
      "text/plain": [
       "          0         1         2         3         4         5         6  \\\n",
       "0  0.181682  0.379705  0.082884  0.068724  0.518867 -0.058651  0.184970   \n",
       "1  0.862481  0.190195  0.008597  0.015118  0.206916 -0.040701  0.187284   \n",
       "2  0.491096  0.614739 -0.301714 -0.239829 -0.587208 -0.451638  0.560999   \n",
       "3  0.081438  0.539114  0.417587  0.424071  0.160224  0.046398  0.407351   \n",
       "4 -0.306434  0.073493  0.350136 -0.081835  0.537911  0.149230 -0.229356   \n",
       "\n",
       "          7         8         9  movieKey  \n",
       "0  0.096979 -0.031026 -0.058930         0  \n",
       "1  0.709218  0.328185 -0.457949         1  \n",
       "2 -0.583606 -0.439908 -0.838913         2  \n",
       "3 -0.692606  0.027667  0.179440         3  \n",
       "4 -0.241654  0.147249  0.065574         4  "
      ]
     },
     "execution_count": 415,
     "metadata": {},
     "output_type": "execute_result"
    }
   ],
   "source": [
    "new_movie_fet = v_best_df.copy() \n",
    "new_movie_fet['movieKey'] = new_movie_fet.index\n",
    "new_movie_fet.head()"
   ]
  },
  {
   "cell_type": "code",
   "execution_count": 429,
   "metadata": {},
   "outputs": [
    {
     "data": {
      "text/plain": [
       "163949"
      ]
     },
     "execution_count": 429,
     "metadata": {},
     "output_type": "execute_result"
    }
   ],
   "source": [
    "vbest_w_id = pd.merge(new_movie_fet,key_df, how = 'left', left_on = ['movieKey'], right_on = ['movieKey'])\n",
    "vbest_w_id.movieId.max()"
   ]
  },
  {
   "cell_type": "markdown",
   "metadata": {},
   "source": [
    "Looking at the user feature matrix "
   ]
  },
  {
   "cell_type": "code",
   "execution_count": 132,
   "metadata": {
    "collapsed": true
   },
   "outputs": [],
   "source": [
    "u_best_df = pd.DataFrame(u_best)\n",
    "u_best_df.to_csv(\"u_best_df.csv\")"
   ]
  },
  {
   "cell_type": "code",
   "execution_count": 130,
   "metadata": {},
   "outputs": [
    {
     "data": {
      "text/html": [
       "<div>\n",
       "<style>\n",
       "    .dataframe thead tr:only-child th {\n",
       "        text-align: right;\n",
       "    }\n",
       "\n",
       "    .dataframe thead th {\n",
       "        text-align: left;\n",
       "    }\n",
       "\n",
       "    .dataframe tbody tr th {\n",
       "        vertical-align: top;\n",
       "    }\n",
       "</style>\n",
       "<table border=\"1\" class=\"dataframe\">\n",
       "  <thead>\n",
       "    <tr style=\"text-align: right;\">\n",
       "      <th></th>\n",
       "      <th>0</th>\n",
       "      <th>1</th>\n",
       "      <th>2</th>\n",
       "      <th>3</th>\n",
       "      <th>4</th>\n",
       "      <th>5</th>\n",
       "      <th>6</th>\n",
       "      <th>7</th>\n",
       "      <th>8</th>\n",
       "      <th>9</th>\n",
       "    </tr>\n",
       "  </thead>\n",
       "  <tbody>\n",
       "    <tr>\n",
       "      <th>0</th>\n",
       "      <td>-1.531814</td>\n",
       "      <td>-1.203776</td>\n",
       "      <td>1.210292</td>\n",
       "      <td>-1.917027</td>\n",
       "      <td>-0.670182</td>\n",
       "      <td>-1.221317</td>\n",
       "      <td>-0.255783</td>\n",
       "      <td>1.102115</td>\n",
       "      <td>0.644616</td>\n",
       "      <td>0.996236</td>\n",
       "    </tr>\n",
       "    <tr>\n",
       "      <th>1</th>\n",
       "      <td>-0.146235</td>\n",
       "      <td>-0.095634</td>\n",
       "      <td>-0.266888</td>\n",
       "      <td>-0.847841</td>\n",
       "      <td>0.814271</td>\n",
       "      <td>0.544341</td>\n",
       "      <td>-2.492251</td>\n",
       "      <td>-0.030672</td>\n",
       "      <td>-1.065321</td>\n",
       "      <td>-1.526589</td>\n",
       "    </tr>\n",
       "    <tr>\n",
       "      <th>2</th>\n",
       "      <td>0.055559</td>\n",
       "      <td>-0.809305</td>\n",
       "      <td>-0.363773</td>\n",
       "      <td>0.146568</td>\n",
       "      <td>-0.354603</td>\n",
       "      <td>0.635479</td>\n",
       "      <td>-1.023717</td>\n",
       "      <td>-0.696411</td>\n",
       "      <td>0.575030</td>\n",
       "      <td>0.501358</td>\n",
       "    </tr>\n",
       "    <tr>\n",
       "      <th>3</th>\n",
       "      <td>0.330837</td>\n",
       "      <td>0.539049</td>\n",
       "      <td>-2.597085</td>\n",
       "      <td>0.574089</td>\n",
       "      <td>1.369748</td>\n",
       "      <td>0.193365</td>\n",
       "      <td>-0.729239</td>\n",
       "      <td>0.150742</td>\n",
       "      <td>0.026561</td>\n",
       "      <td>0.074169</td>\n",
       "    </tr>\n",
       "    <tr>\n",
       "      <th>4</th>\n",
       "      <td>0.940548</td>\n",
       "      <td>0.682828</td>\n",
       "      <td>-0.027098</td>\n",
       "      <td>0.011350</td>\n",
       "      <td>0.061023</td>\n",
       "      <td>0.123506</td>\n",
       "      <td>-0.123541</td>\n",
       "      <td>-0.302248</td>\n",
       "      <td>-0.160815</td>\n",
       "      <td>0.649464</td>\n",
       "    </tr>\n",
       "  </tbody>\n",
       "</table>\n",
       "</div>"
      ],
      "text/plain": [
       "          0         1         2         3         4         5         6  \\\n",
       "0 -1.531814 -1.203776  1.210292 -1.917027 -0.670182 -1.221317 -0.255783   \n",
       "1 -0.146235 -0.095634 -0.266888 -0.847841  0.814271  0.544341 -2.492251   \n",
       "2  0.055559 -0.809305 -0.363773  0.146568 -0.354603  0.635479 -1.023717   \n",
       "3  0.330837  0.539049 -2.597085  0.574089  1.369748  0.193365 -0.729239   \n",
       "4  0.940548  0.682828 -0.027098  0.011350  0.061023  0.123506 -0.123541   \n",
       "\n",
       "          7         8         9  \n",
       "0  1.102115  0.644616  0.996236  \n",
       "1 -0.030672 -1.065321 -1.526589  \n",
       "2 -0.696411  0.575030  0.501358  \n",
       "3  0.150742  0.026561  0.074169  \n",
       "4 -0.302248 -0.160815  0.649464  "
      ]
     },
     "execution_count": 130,
     "metadata": {},
     "output_type": "execute_result"
    }
   ],
   "source": [
    "u_best_df.head()"
   ]
  },
  {
   "cell_type": "markdown",
   "metadata": {},
   "source": [
    "Creating the final ratings matrix by multiplying the item feature and user feature matrix"
   ]
  },
  {
   "cell_type": "code",
   "execution_count": 134,
   "metadata": {
    "collapsed": true
   },
   "outputs": [],
   "source": [
    "final_rating = np.dot(u_best_df,(v_best_df.T))\n",
    "final_rating_df = pd.DataFrame(final_rating)"
   ]
  },
  {
   "cell_type": "code",
   "execution_count": 139,
   "metadata": {},
   "outputs": [
    {
     "data": {
      "text/plain": [
       "(671, 9066)"
      ]
     },
     "execution_count": 139,
     "metadata": {},
     "output_type": "execute_result"
    }
   ],
   "source": [
    "final_rating_df.shape"
   ]
  },
  {
   "cell_type": "markdown",
   "metadata": {},
   "source": [
    "Replacing the moviekey by the original movieId"
   ]
  },
  {
   "cell_type": "code",
   "execution_count": 245,
   "metadata": {},
   "outputs": [
    {
     "data": {
      "text/html": [
       "<div>\n",
       "<style>\n",
       "    .dataframe thead tr:only-child th {\n",
       "        text-align: right;\n",
       "    }\n",
       "\n",
       "    .dataframe thead th {\n",
       "        text-align: left;\n",
       "    }\n",
       "\n",
       "    .dataframe tbody tr th {\n",
       "        vertical-align: top;\n",
       "    }\n",
       "</style>\n",
       "<table border=\"1\" class=\"dataframe\">\n",
       "  <thead>\n",
       "    <tr style=\"text-align: right;\">\n",
       "      <th></th>\n",
       "      <th>movieId</th>\n",
       "      <th>movieKey</th>\n",
       "    </tr>\n",
       "  </thead>\n",
       "  <tbody>\n",
       "    <tr>\n",
       "      <th>0</th>\n",
       "      <td>1</td>\n",
       "      <td>0</td>\n",
       "    </tr>\n",
       "    <tr>\n",
       "      <th>1</th>\n",
       "      <td>2</td>\n",
       "      <td>1</td>\n",
       "    </tr>\n",
       "    <tr>\n",
       "      <th>2</th>\n",
       "      <td>3</td>\n",
       "      <td>2</td>\n",
       "    </tr>\n",
       "    <tr>\n",
       "      <th>3</th>\n",
       "      <td>4</td>\n",
       "      <td>3</td>\n",
       "    </tr>\n",
       "    <tr>\n",
       "      <th>4</th>\n",
       "      <td>5</td>\n",
       "      <td>4</td>\n",
       "    </tr>\n",
       "  </tbody>\n",
       "</table>\n",
       "</div>"
      ],
      "text/plain": [
       "   movieId  movieKey\n",
       "0        1         0\n",
       "1        2         1\n",
       "2        3         2\n",
       "3        4         3\n",
       "4        5         4"
      ]
     },
     "execution_count": 245,
     "metadata": {},
     "output_type": "execute_result"
    }
   ],
   "source": [
    "key_df.head()"
   ]
  },
  {
   "cell_type": "code",
   "execution_count": null,
   "metadata": {
    "collapsed": true
   },
   "outputs": [],
   "source": [
    "movieId = key_df['movieId']"
   ]
  },
  {
   "cell_type": "markdown",
   "metadata": {},
   "source": [
    "Final ratings matrix"
   ]
  },
  {
   "cell_type": "code",
   "execution_count": 152,
   "metadata": {},
   "outputs": [
    {
     "data": {
      "text/html": [
       "<div>\n",
       "<style>\n",
       "    .dataframe thead tr:only-child th {\n",
       "        text-align: right;\n",
       "    }\n",
       "\n",
       "    .dataframe thead th {\n",
       "        text-align: left;\n",
       "    }\n",
       "\n",
       "    .dataframe tbody tr th {\n",
       "        vertical-align: top;\n",
       "    }\n",
       "</style>\n",
       "<table border=\"1\" class=\"dataframe\">\n",
       "  <thead>\n",
       "    <tr style=\"text-align: right;\">\n",
       "      <th>movieId</th>\n",
       "      <th>1</th>\n",
       "      <th>2</th>\n",
       "      <th>3</th>\n",
       "      <th>4</th>\n",
       "      <th>5</th>\n",
       "      <th>6</th>\n",
       "      <th>7</th>\n",
       "      <th>8</th>\n",
       "      <th>9</th>\n",
       "      <th>10</th>\n",
       "      <th>...</th>\n",
       "      <th>98230</th>\n",
       "      <th>65465</th>\n",
       "      <th>98243</th>\n",
       "      <th>131013</th>\n",
       "      <th>32728</th>\n",
       "      <th>32735</th>\n",
       "      <th>32743</th>\n",
       "      <th>65514</th>\n",
       "      <th>70994</th>\n",
       "      <th>98296</th>\n",
       "    </tr>\n",
       "  </thead>\n",
       "  <tbody>\n",
       "    <tr>\n",
       "      <th>0</th>\n",
       "      <td>-1.062056</td>\n",
       "      <td>-1.168588</td>\n",
       "      <td>-2.358572</td>\n",
       "      <td>-1.916247</td>\n",
       "      <td>0.371402</td>\n",
       "      <td>-2.942994</td>\n",
       "      <td>-1.866330</td>\n",
       "      <td>-1.074722</td>\n",
       "      <td>-0.236120</td>\n",
       "      <td>-0.693676</td>\n",
       "      <td>...</td>\n",
       "      <td>0.251627</td>\n",
       "      <td>-1.201962</td>\n",
       "      <td>-0.572918</td>\n",
       "      <td>-0.799834</td>\n",
       "      <td>-0.188673</td>\n",
       "      <td>-0.030253</td>\n",
       "      <td>3.389844</td>\n",
       "      <td>0.014392</td>\n",
       "      <td>-2.086257</td>\n",
       "      <td>-0.802689</td>\n",
       "    </tr>\n",
       "    <tr>\n",
       "      <th>1</th>\n",
       "      <td>-0.093650</td>\n",
       "      <td>-0.152128</td>\n",
       "      <td>-0.201667</td>\n",
       "      <td>-1.676122</td>\n",
       "      <td>0.855007</td>\n",
       "      <td>2.361760</td>\n",
       "      <td>-1.030694</td>\n",
       "      <td>0.390130</td>\n",
       "      <td>-0.188114</td>\n",
       "      <td>-0.303916</td>\n",
       "      <td>...</td>\n",
       "      <td>-0.190755</td>\n",
       "      <td>-0.794950</td>\n",
       "      <td>-0.757871</td>\n",
       "      <td>-0.234022</td>\n",
       "      <td>0.156548</td>\n",
       "      <td>0.004591</td>\n",
       "      <td>-2.297474</td>\n",
       "      <td>-0.011941</td>\n",
       "      <td>0.084723</td>\n",
       "      <td>1.292098</td>\n",
       "    </tr>\n",
       "    <tr>\n",
       "      <th>2</th>\n",
       "      <td>-0.842824</td>\n",
       "      <td>-0.932670</td>\n",
       "      <td>-1.315835</td>\n",
       "      <td>-0.377665</td>\n",
       "      <td>0.208855</td>\n",
       "      <td>0.277132</td>\n",
       "      <td>-0.777370</td>\n",
       "      <td>-1.030704</td>\n",
       "      <td>0.012940</td>\n",
       "      <td>-0.590945</td>\n",
       "      <td>...</td>\n",
       "      <td>0.058503</td>\n",
       "      <td>-0.821299</td>\n",
       "      <td>-0.745069</td>\n",
       "      <td>-0.128872</td>\n",
       "      <td>0.038888</td>\n",
       "      <td>-0.005879</td>\n",
       "      <td>-0.864778</td>\n",
       "      <td>-0.002966</td>\n",
       "      <td>-0.302845</td>\n",
       "      <td>-0.080844</td>\n",
       "    </tr>\n",
       "    <tr>\n",
       "      <th>3</th>\n",
       "      <td>0.662896</td>\n",
       "      <td>0.594856</td>\n",
       "      <td>-0.322899</td>\n",
       "      <td>-0.682482</td>\n",
       "      <td>-0.112816</td>\n",
       "      <td>1.151723</td>\n",
       "      <td>0.582378</td>\n",
       "      <td>-0.343927</td>\n",
       "      <td>0.174774</td>\n",
       "      <td>0.435953</td>\n",
       "      <td>...</td>\n",
       "      <td>-0.415153</td>\n",
       "      <td>0.411975</td>\n",
       "      <td>0.108130</td>\n",
       "      <td>0.364971</td>\n",
       "      <td>0.154059</td>\n",
       "      <td>-0.007452</td>\n",
       "      <td>-0.475688</td>\n",
       "      <td>-0.011752</td>\n",
       "      <td>0.032644</td>\n",
       "      <td>1.631207</td>\n",
       "    </tr>\n",
       "    <tr>\n",
       "      <th>4</th>\n",
       "      <td>0.367660</td>\n",
       "      <td>0.360918</td>\n",
       "      <td>0.428489</td>\n",
       "      <td>0.724830</td>\n",
       "      <td>-0.076911</td>\n",
       "      <td>0.574887</td>\n",
       "      <td>0.532443</td>\n",
       "      <td>-0.555699</td>\n",
       "      <td>0.257946</td>\n",
       "      <td>0.577601</td>\n",
       "      <td>...</td>\n",
       "      <td>-0.016393</td>\n",
       "      <td>0.272838</td>\n",
       "      <td>0.194544</td>\n",
       "      <td>0.231929</td>\n",
       "      <td>-0.055707</td>\n",
       "      <td>0.012340</td>\n",
       "      <td>-0.679750</td>\n",
       "      <td>0.004249</td>\n",
       "      <td>0.143165</td>\n",
       "      <td>0.283154</td>\n",
       "    </tr>\n",
       "  </tbody>\n",
       "</table>\n",
       "<p>5 rows × 9066 columns</p>\n",
       "</div>"
      ],
      "text/plain": [
       "movieId    1         2         3         4         5         6         7       \\\n",
       "0       -1.062056 -1.168588 -2.358572 -1.916247  0.371402 -2.942994 -1.866330   \n",
       "1       -0.093650 -0.152128 -0.201667 -1.676122  0.855007  2.361760 -1.030694   \n",
       "2       -0.842824 -0.932670 -1.315835 -0.377665  0.208855  0.277132 -0.777370   \n",
       "3        0.662896  0.594856 -0.322899 -0.682482 -0.112816  1.151723  0.582378   \n",
       "4        0.367660  0.360918  0.428489  0.724830 -0.076911  0.574887  0.532443   \n",
       "\n",
       "movieId    8         9         10        ...       98230     65465     98243   \\\n",
       "0       -1.074722 -0.236120 -0.693676    ...     0.251627 -1.201962 -0.572918   \n",
       "1        0.390130 -0.188114 -0.303916    ...    -0.190755 -0.794950 -0.757871   \n",
       "2       -1.030704  0.012940 -0.590945    ...     0.058503 -0.821299 -0.745069   \n",
       "3       -0.343927  0.174774  0.435953    ...    -0.415153  0.411975  0.108130   \n",
       "4       -0.555699  0.257946  0.577601    ...    -0.016393  0.272838  0.194544   \n",
       "\n",
       "movieId    131013    32728     32735     32743     65514     70994     98296   \n",
       "0       -0.799834 -0.188673 -0.030253  3.389844  0.014392 -2.086257 -0.802689  \n",
       "1       -0.234022  0.156548  0.004591 -2.297474 -0.011941  0.084723  1.292098  \n",
       "2       -0.128872  0.038888 -0.005879 -0.864778 -0.002966 -0.302845 -0.080844  \n",
       "3        0.364971  0.154059 -0.007452 -0.475688 -0.011752  0.032644  1.631207  \n",
       "4        0.231929 -0.055707  0.012340 -0.679750  0.004249  0.143165  0.283154  \n",
       "\n",
       "[5 rows x 9066 columns]"
      ]
     },
     "execution_count": 152,
     "metadata": {},
     "output_type": "execute_result"
    }
   ],
   "source": [
    "final_rating_df.columns = movieId\n",
    "final_rating_df.head()\n",
    "#final_rating_df.to_csv(\"final_rating_df.csv\")"
   ]
  },
  {
   "cell_type": "markdown",
   "metadata": {},
   "source": [
    "# 2. Trend: Movie popularity vs predicted rating \n",
    "Here we look at how the popularity of a movie and its mean predicted rating are related after using our model. Popularity and mean rating are defined as below:\n",
    "\n",
    "\n",
    "Popularity:  Number of times the movie was rated in the given dataset \n",
    "\n",
    "Mean Rating: Mean rating of the movie after prediction \n",
    "\n",
    "We follow the below mentioned approach:\n",
    "* Create quantiles of the mean predicted rating\n",
    "* Find total popularity of the movies in the given quantiles "
   ]
  },
  {
   "cell_type": "code",
   "execution_count": 247,
   "metadata": {},
   "outputs": [
    {
     "data": {
      "text/plain": [
       "movieId\n",
       "1   -0.174548\n",
       "2   -0.649965\n",
       "3   -0.789930\n",
       "4   -0.403460\n",
       "5    0.271831\n",
       "dtype: float64"
      ]
     },
     "execution_count": 247,
     "metadata": {},
     "output_type": "execute_result"
    }
   ],
   "source": [
    "mv_rating = final_rating_df.mean(axis = 0)\n",
    "mv_rating.head()"
   ]
  },
  {
   "cell_type": "markdown",
   "metadata": {},
   "source": [
    "Creating quantiles for the predicted rating"
   ]
  },
  {
   "cell_type": "code",
   "execution_count": 467,
   "metadata": {},
   "outputs": [
    {
     "data": {
      "text/plain": [
       "0.33   -0.111009\n",
       "0.66    0.032071\n",
       "dtype: float64"
      ]
     },
     "execution_count": 467,
     "metadata": {},
     "output_type": "execute_result"
    }
   ],
   "source": [
    "quant= mv_rating.quantile([.33, .66])\n",
    "quant"
   ]
  },
  {
   "cell_type": "markdown",
   "metadata": {},
   "source": [
    "Separating movieIds on the basis of the quntile rating they fall in "
   ]
  },
  {
   "cell_type": "code",
   "execution_count": 476,
   "metadata": {},
   "outputs": [
    {
     "data": {
      "text/html": [
       "<div>\n",
       "<style>\n",
       "    .dataframe thead tr:only-child th {\n",
       "        text-align: right;\n",
       "    }\n",
       "\n",
       "    .dataframe thead th {\n",
       "        text-align: left;\n",
       "    }\n",
       "\n",
       "    .dataframe tbody tr th {\n",
       "        vertical-align: top;\n",
       "    }\n",
       "</style>\n",
       "<table border=\"1\" class=\"dataframe\">\n",
       "  <thead>\n",
       "    <tr style=\"text-align: right;\">\n",
       "      <th></th>\n",
       "      <th>movieId</th>\n",
       "      <th>rating_quantile</th>\n",
       "    </tr>\n",
       "  </thead>\n",
       "  <tbody>\n",
       "    <tr>\n",
       "      <th>0</th>\n",
       "      <td>1</td>\n",
       "      <td>Q1: Low Rating</td>\n",
       "    </tr>\n",
       "    <tr>\n",
       "      <th>1</th>\n",
       "      <td>2</td>\n",
       "      <td>Q1: Low Rating</td>\n",
       "    </tr>\n",
       "    <tr>\n",
       "      <th>2</th>\n",
       "      <td>3</td>\n",
       "      <td>Q1: Low Rating</td>\n",
       "    </tr>\n",
       "    <tr>\n",
       "      <th>3</th>\n",
       "      <td>4</td>\n",
       "      <td>Q1: Low Rating</td>\n",
       "    </tr>\n",
       "    <tr>\n",
       "      <th>4</th>\n",
       "      <td>6</td>\n",
       "      <td>Q1: Low Rating</td>\n",
       "    </tr>\n",
       "  </tbody>\n",
       "</table>\n",
       "</div>"
      ],
      "text/plain": [
       "   movieId rating_quantile\n",
       "0        1  Q1: Low Rating\n",
       "1        2  Q1: Low Rating\n",
       "2        3  Q1: Low Rating\n",
       "3        4  Q1: Low Rating\n",
       "4        6  Q1: Low Rating"
      ]
     },
     "execution_count": 476,
     "metadata": {},
     "output_type": "execute_result"
    }
   ],
   "source": [
    "quant1 = mv_rating.loc[            mv_rating <= -0.111]\n",
    "quant2 = mv_rating.loc[(mv_rating > -0.111)  & (mv_rating <= 0.032)]\n",
    "quant3 = mv_rating.loc[(mv_rating >  0.032) ]\n",
    "\n",
    "quant1_mv_id = pd.DataFrame(list(quant1.index))\n",
    "quant2_mv_id = pd.DataFrame(list(quant2.index))\n",
    "quant3_mv_id = pd.DataFrame(list(quant3.index))\n",
    "\n",
    "quant1_mv_id[\"quantile\"] = \"Q1: Low Rating\"\n",
    "quant2_mv_id[\"quantile\"] = \"Q2: Medium Rating\"\n",
    "quant3_mv_id[\"quantile\"] = \"Q3: High Rating\"\n",
    "\n",
    "quant_tot_id = pd.concat([quant1_mv_id,quant2_mv_id,quant3_mv_id], axis= 0)\n",
    "quant_tot_id.columns = ['movieId', 'rating_quantile']\n",
    "quant_tot_id.head()\n"
   ]
  },
  {
   "cell_type": "markdown",
   "metadata": {},
   "source": [
    "Total movie dataset:  How popular a movie is : No of times a movie has been rated : MovieId, freq"
   ]
  },
  {
   "cell_type": "code",
   "execution_count": 477,
   "metadata": {},
   "outputs": [
    {
     "data": {
      "text/html": [
       "<div>\n",
       "<style>\n",
       "    .dataframe thead tr:only-child th {\n",
       "        text-align: right;\n",
       "    }\n",
       "\n",
       "    .dataframe thead th {\n",
       "        text-align: left;\n",
       "    }\n",
       "\n",
       "    .dataframe tbody tr th {\n",
       "        vertical-align: top;\n",
       "    }\n",
       "</style>\n",
       "<table border=\"1\" class=\"dataframe\">\n",
       "  <thead>\n",
       "    <tr style=\"text-align: right;\">\n",
       "      <th></th>\n",
       "      <th>freq</th>\n",
       "      <th>MovieID</th>\n",
       "    </tr>\n",
       "  </thead>\n",
       "  <tbody>\n",
       "    <tr>\n",
       "      <th>356</th>\n",
       "      <td>341</td>\n",
       "      <td>356</td>\n",
       "    </tr>\n",
       "    <tr>\n",
       "      <th>296</th>\n",
       "      <td>324</td>\n",
       "      <td>296</td>\n",
       "    </tr>\n",
       "    <tr>\n",
       "      <th>318</th>\n",
       "      <td>311</td>\n",
       "      <td>318</td>\n",
       "    </tr>\n",
       "    <tr>\n",
       "      <th>593</th>\n",
       "      <td>304</td>\n",
       "      <td>593</td>\n",
       "    </tr>\n",
       "    <tr>\n",
       "      <th>260</th>\n",
       "      <td>291</td>\n",
       "      <td>260</td>\n",
       "    </tr>\n",
       "  </tbody>\n",
       "</table>\n",
       "</div>"
      ],
      "text/plain": [
       "     freq  MovieID\n",
       "356   341      356\n",
       "296   324      296\n",
       "318   311      318\n",
       "593   304      593\n",
       "260   291      260"
      ]
     },
     "execution_count": 477,
     "metadata": {},
     "output_type": "execute_result"
    }
   ],
   "source": [
    "mov_pop = pd.DataFrame(tot_ratings['movieId'].value_counts())\n",
    "mov_pop['movieId1'] = mov_pop.index\n",
    "mov_pop.columns = ['freq', 'MovieID']\n",
    "mov_pop.head()"
   ]
  },
  {
   "cell_type": "code",
   "execution_count": 478,
   "metadata": {},
   "outputs": [
    {
     "data": {
      "text/html": [
       "<div>\n",
       "<style>\n",
       "    .dataframe thead tr:only-child th {\n",
       "        text-align: right;\n",
       "    }\n",
       "\n",
       "    .dataframe thead th {\n",
       "        text-align: left;\n",
       "    }\n",
       "\n",
       "    .dataframe tbody tr th {\n",
       "        vertical-align: top;\n",
       "    }\n",
       "</style>\n",
       "<table border=\"1\" class=\"dataframe\">\n",
       "  <thead>\n",
       "    <tr style=\"text-align: right;\">\n",
       "      <th></th>\n",
       "      <th>freq</th>\n",
       "      <th>quantile</th>\n",
       "    </tr>\n",
       "    <tr>\n",
       "      <th>rating_quantile</th>\n",
       "      <th></th>\n",
       "      <th></th>\n",
       "    </tr>\n",
       "  </thead>\n",
       "  <tbody>\n",
       "    <tr>\n",
       "      <th>Q1: Low Rating</th>\n",
       "      <td>38385</td>\n",
       "      <td>Q1: Low Rating</td>\n",
       "    </tr>\n",
       "    <tr>\n",
       "      <th>Q2: Medium Rating</th>\n",
       "      <td>25271</td>\n",
       "      <td>Q2: Medium Rating</td>\n",
       "    </tr>\n",
       "    <tr>\n",
       "      <th>Q3: High Rating</th>\n",
       "      <td>36348</td>\n",
       "      <td>Q3: High Rating</td>\n",
       "    </tr>\n",
       "  </tbody>\n",
       "</table>\n",
       "</div>"
      ],
      "text/plain": [
       "                    freq           quantile\n",
       "rating_quantile                            \n",
       "Q1: Low Rating     38385     Q1: Low Rating\n",
       "Q2: Medium Rating  25271  Q2: Medium Rating\n",
       "Q3: High Rating    36348    Q3: High Rating"
      ]
     },
     "execution_count": 478,
     "metadata": {},
     "output_type": "execute_result"
    }
   ],
   "source": [
    "ratings_quant_fin = pd.merge(mov_pop,quant_tot_id, how = 'left', left_on = ['MovieID'], right_on = ['movieId'])\n",
    "del ratings_quant_fin['MovieID']\n",
    "ratings_quant_fin.head()\n",
    "X =ratings_quant_fin.groupby(['rating_quantile']).freq.sum()\n",
    "pop_df = pd.DataFrame(X)\n",
    "pop_df['quantile']= pop_df.index\n",
    "pop_df.head()"
   ]
  },
  {
   "cell_type": "code",
   "execution_count": 485,
   "metadata": {},
   "outputs": [
    {
     "data": {
      "image/png": "[encoded data removed]",
      "text/plain": [
       "<matplotlib.figure.Figure at 0x1a2d7d10d0>"
      ]
     },
     "metadata": {},
     "output_type": "display_data"
    }
   ],
   "source": [
    "# Plotting final movie ratings vs Popularity \n",
    "sns.set_style(\"white\")\n",
    "plt.figure(figsize=(10,10))\n",
    "plt.ylim(ymin =15000,ymax= 40000) \n",
    "plt.title(\"Item popularity Vs. Predicted Rating\", fontsize = 18)\n",
    "plt.xlabel(\"Average Rating Value\",fontsize = 14)\n",
    "plt.ylabel(\"Item popularity (Number of Ratings in the dataset)\",fontsize = 14)\n",
    "plt.plot(pop_df['quantile'],pop_df['freq'])\n",
    "\n",
    "plt.savefig('pop_rating.png')"
   ]
  },
  {
   "cell_type": "markdown",
   "metadata": {},
   "source": [
    "As we can see above, the model does not necessarily give a higher rating to a more popular movie. Thus the model might be able to recommend movies that are not very popular and can give serendipitous recommendations."
   ]
  },
  {
   "cell_type": "markdown",
   "metadata": {},
   "source": [
    "## How personalized are our recommendations ?\n",
    "\n",
    "We pick a user at random, find the most similar user and a very dissimilar user and see how the different are our recommendations for them. \n",
    "\n",
    "We follow the below given approach for the same:\n",
    "* Pick a user at random, calculate the distances between all users and this user. Hence find the most similar and dissimilar user to the chosen user \n",
    "* Find the best recommended movie to all the three users \n",
    "* Find the distances between the recommended movies \n",
    "\n",
    "Our premise is that, the distance between recommended movies of simmilar users will be less compared to the distance between dissimilar users"
   ]
  },
  {
   "cell_type": "code",
   "execution_count": 349,
   "metadata": {},
   "outputs": [
    {
     "data": {
      "text/plain": [
       "array([-1.53181406, -1.20377611,  1.21029196, -1.91702663, -0.67018246,\n",
       "       -1.22131688, -0.2557834 ,  1.10211501,  0.64461623,  0.99623635])"
      ]
     },
     "execution_count": 349,
     "metadata": {},
     "output_type": "execute_result"
    }
   ],
   "source": [
    "# Picking user 1 at random (getting feature array of user 1)\n",
    "v_user = u_best[0]\n",
    "v_user"
   ]
  },
  {
   "cell_type": "code",
   "execution_count": 355,
   "metadata": {
    "collapsed": true
   },
   "outputs": [],
   "source": [
    "# Finding indices of the most similar and most dissimilar user \n",
    "dist_user = []\n",
    "for vec in u_best: \n",
    "    dist_user.append(nplg.norm(v_user-vec,2)**2)\n",
    "    \n",
    "dist_user = np.array(dist_user).round(2)\n",
    "dist_user_sort = dist_user[np.argsort(dist_user)]"
   ]
  },
  {
   "cell_type": "code",
   "execution_count": 342,
   "metadata": {},
   "outputs": [
    {
     "name": "stdout",
     "output_type": "stream",
     "text": [
      "(array([352]),) (array([256]),)\n"
     ]
    }
   ],
   "source": [
    "closest_user  = np.where(dist_user==4.6)\n",
    "farthest_user = np.where(dist_user==74.65)\n",
    "print closest_user, farthest_user"
   ]
  },
  {
   "cell_type": "code",
   "execution_count": 400,
   "metadata": {
    "collapsed": true
   },
   "outputs": [],
   "source": [
    "ini = np.array(final_rating_df.loc[final_rating_df.index == 0]).round(2)\n",
    "top_rec_user = np.sort(ini)[:3]\n",
    "\n",
    "#Movie Id of the top recommended movie of the chosen user \n",
    "mv1 = np.where(ini == -5.48 ) #MovieId: 149\n",
    "\n",
    "rec_mv1 = np.array(final_rating_df.loc[final_rating_df.index == 352]).round(2)\n",
    "top_rec_sim = np.sort(rec_mv1)[:3]\n",
    "\n",
    "#Movie Id of the top recommended movie of the most similar user \n",
    "sim_mv1 = np.where(rec_mv1 == -4.93 ) #MovieId: 7354\n",
    "\n",
    "rec_mv2 = np.array(final_rating_df.loc[final_rating_df.index == 256]).round(2)\n",
    "top_rec_dis_sim = np.sort(rec_mv2)[:3]\n",
    "\n",
    "#Movie Id of the top recommended movie of the most dissimilar user \n",
    "dissim_mv1 = np.where(rec_mv2 == -13.08 ) #MovieId: 1527\n"
   ]
  },
  {
   "cell_type": "code",
   "execution_count": 482,
   "metadata": {},
   "outputs": [
    {
     "name": "stdout",
     "output_type": "stream",
     "text": [
      "Distance between movie features of the top movie recommendation of two similar users = 0.47\n",
      "Distance between movie features of the top movie recommendation of two dissimilar users = 0.6\n"
     ]
    }
   ],
   "source": [
    "orig_movie = vbest_w_id.loc[(vbest_w_id.movieId == 149) ]\n",
    "del orig_movie['movieKey']\n",
    "del orig_movie['movieId']\n",
    "\n",
    "orig_movie = np.array(orig_movie)\n",
    "\n",
    "simm_movie = vbest_w_id.loc[(vbest_w_id.movieId == 7354) ]\n",
    "del simm_movie['movieKey']\n",
    "del simm_movie['movieId']\n",
    "simm_movie = np.array(simm_movie)\n",
    "\n",
    "\n",
    "diss_simm_movie = vbest_w_id.loc[(vbest_w_id.movieId ==1527) ]\n",
    "del diss_simm_movie['movieKey']\n",
    "del diss_simm_movie['movieId']\n",
    "diss_simm_movie = np.array(diss_simm_movie)\n",
    "\n",
    "\n",
    "\n",
    "dist_sim_movie    = (nplg.norm(orig_movie-simm_movie,2)**2).round(2)\n",
    "dist_dissim_movie = (nplg.norm(orig_movie-diss_simm_movie,2)**2).round(2)\n",
    "\n",
    "print('Distance between movie features of the top movie recommendation of two similar users = {}').format(dist_sim_movie)\n",
    "print('Distance between movie features of the top movie recommendation of two dissimilar users = {}').format(dist_dissim_movie)"
   ]
  },
  {
   "cell_type": "markdown",
   "metadata": {},
   "source": [
    "As discussed in our premise we can see that the distances between movie recommendations of two dissimilar users is greater than that between two similar users. \n",
    "\n",
    "Another point to note here is that, the distance of 0.47 between top recommendation of two closest users suggests that the recommendations are personalized. "
   ]
  },
  {
   "cell_type": "markdown",
   "metadata": {},
   "source": [
    "## 3. Let us now look at the movies which are closest to “Star Wars” and “My Fair Lady” based on the ratings matrix"
   ]
  },
  {
   "cell_type": "code",
   "execution_count": 123,
   "metadata": {
    "collapsed": true
   },
   "outputs": [],
   "source": [
    "movies_ml =  pd.read_csv('movies_ml.csv')\n",
    "movies_ml.head()\n",
    "movies_list = list(movies_ml['title'])"
   ]
  },
  {
   "cell_type": "code",
   "execution_count": 124,
   "metadata": {},
   "outputs": [
    {
     "data": {
      "text/plain": [
       "'Toy Story'"
      ]
     },
     "execution_count": 124,
     "metadata": {},
     "output_type": "execute_result"
    }
   ],
   "source": [
    "content = [x.split('(')[0] for x in movies_list] \n",
    "content = [x.strip() for x in content] \n",
    "content[0]"
   ]
  },
  {
   "cell_type": "code",
   "execution_count": 125,
   "metadata": {},
   "outputs": [
    {
     "data": {
      "text/html": [
       "<div>\n",
       "<style>\n",
       "    .dataframe thead tr:only-child th {\n",
       "        text-align: right;\n",
       "    }\n",
       "\n",
       "    .dataframe thead th {\n",
       "        text-align: left;\n",
       "    }\n",
       "\n",
       "    .dataframe tbody tr th {\n",
       "        vertical-align: top;\n",
       "    }\n",
       "</style>\n",
       "<table border=\"1\" class=\"dataframe\">\n",
       "  <thead>\n",
       "    <tr style=\"text-align: right;\">\n",
       "      <th></th>\n",
       "      <th>Star Wars</th>\n",
       "      <th>Distance (Star Wars)</th>\n",
       "      <th>My Fair Lady</th>\n",
       "      <th>Distance (My Fair Lady)</th>\n",
       "    </tr>\n",
       "  </thead>\n",
       "  <tbody>\n",
       "    <tr>\n",
       "      <th>1</th>\n",
       "      <td>Star Wars: Episode VII - The Force Awakens</td>\n",
       "      <td>0.0</td>\n",
       "      <td>My Fair Lady</td>\n",
       "      <td>0.00</td>\n",
       "    </tr>\n",
       "    <tr>\n",
       "      <th>2</th>\n",
       "      <td>Walker</td>\n",
       "      <td>0.0</td>\n",
       "      <td>Punisher, The</td>\n",
       "      <td>0.00</td>\n",
       "    </tr>\n",
       "    <tr>\n",
       "      <th>3</th>\n",
       "      <td>Citizen X</td>\n",
       "      <td>0.0</td>\n",
       "      <td>RoboCop 2</td>\n",
       "      <td>0.00</td>\n",
       "    </tr>\n",
       "    <tr>\n",
       "      <th>4</th>\n",
       "      <td>Kingdom of Heaven</td>\n",
       "      <td>0.0</td>\n",
       "      <td>Stunt Man, The</td>\n",
       "      <td>0.00</td>\n",
       "    </tr>\n",
       "    <tr>\n",
       "      <th>5</th>\n",
       "      <td>Nazarin</td>\n",
       "      <td>0.0</td>\n",
       "      <td>Our Lady of the Assassins</td>\n",
       "      <td>0.00</td>\n",
       "    </tr>\n",
       "    <tr>\n",
       "      <th>6</th>\n",
       "      <td>Zenon: Z3</td>\n",
       "      <td>0.0</td>\n",
       "      <td>All the Pretty Horses</td>\n",
       "      <td>0.01</td>\n",
       "    </tr>\n",
       "    <tr>\n",
       "      <th>7</th>\n",
       "      <td>Ashes of Time</td>\n",
       "      <td>0.0</td>\n",
       "      <td>35 Up</td>\n",
       "      <td>0.01</td>\n",
       "    </tr>\n",
       "    <tr>\n",
       "      <th>8</th>\n",
       "      <td>Lars and the Real Girl</td>\n",
       "      <td>0.0</td>\n",
       "      <td>Secret World of Arrietty, The</td>\n",
       "      <td>0.02</td>\n",
       "    </tr>\n",
       "    <tr>\n",
       "      <th>9</th>\n",
       "      <td>Series 7: The Contenders</td>\n",
       "      <td>0.0</td>\n",
       "      <td>Wimbledon</td>\n",
       "      <td>0.02</td>\n",
       "    </tr>\n",
       "    <tr>\n",
       "      <th>10</th>\n",
       "      <td>My Tutor</td>\n",
       "      <td>0.0</td>\n",
       "      <td>Sky Captain and the World of Tomorrow</td>\n",
       "      <td>0.02</td>\n",
       "    </tr>\n",
       "  </tbody>\n",
       "</table>\n",
       "</div>"
      ],
      "text/plain": [
       "                                     Star Wars  Distance (Star Wars)  \\\n",
       "1   Star Wars: Episode VII - The Force Awakens                   0.0   \n",
       "2                                       Walker                   0.0   \n",
       "3                                    Citizen X                   0.0   \n",
       "4                            Kingdom of Heaven                   0.0   \n",
       "5                                      Nazarin                   0.0   \n",
       "6                                    Zenon: Z3                   0.0   \n",
       "7                                Ashes of Time                   0.0   \n",
       "8                       Lars and the Real Girl                   0.0   \n",
       "9                     Series 7: The Contenders                   0.0   \n",
       "10                                    My Tutor                   0.0   \n",
       "\n",
       "                             My Fair Lady  Distance (My Fair Lady)  \n",
       "1                            My Fair Lady                     0.00  \n",
       "2                           Punisher, The                     0.00  \n",
       "3                               RoboCop 2                     0.00  \n",
       "4                          Stunt Man, The                     0.00  \n",
       "5               Our Lady of the Assassins                     0.00  \n",
       "6                   All the Pretty Horses                     0.01  \n",
       "7                                   35 Up                     0.01  \n",
       "8           Secret World of Arrietty, The                     0.02  \n",
       "9                               Wimbledon                     0.02  \n",
       "10  Sky Captain and the World of Tomorrow                     0.02  "
      ]
     },
     "execution_count": 125,
     "metadata": {},
     "output_type": "execute_result"
    }
   ],
   "source": [
    "# Store the index of the movies “Star Wars” “My Fair Lady” in 2 variables\n",
    "import re\n",
    "movie1 = \"Star Wars\"\n",
    "movie2 = \"My Fair Lady\"\n",
    "\n",
    "for mv in content:\n",
    "    if movie1 in mv:\n",
    "        ind1=content.index(mv)\n",
    "        \n",
    "    if movie2 in mv:\n",
    "        ind2=content.index(mv)\n",
    "\n",
    "\n",
    "# Get Eucledian distance of these 3 movies with all other movies \n",
    "dist_SW = []\n",
    "dist_MFL = []\n",
    "\n",
    "v_SW = v_best[ind1]\n",
    "v_MFL = v_best[ind2]\n",
    "\n",
    "for vec in v_best:\n",
    "    dist_SW.append(nplg.norm(v_SW-vec,2)**2)\n",
    "    dist_MFL.append(nplg.norm(v_MFL-vec,2)**2)\n",
    "\n",
    "dist_SW = np.array(dist_SW)\n",
    "dist_MFL = np.array(dist_MFL)\n",
    "\n",
    "content = np.array(content)\n",
    "top_movies = pd.DataFrame()\n",
    "\n",
    "# Sort the movies by distances and store in a data frame\n",
    "content[np.argsort(dist_SW)[1:11]]\n",
    "dist_SW[np.argsort(dist_SW)[:11]]\n",
    "\n",
    "top_movies['Star Wars'] = content[np.argsort(dist_SW)[1:11]]\n",
    "top_movies['Distance (Star Wars)'] = dist_SW[np.argsort(dist_SW)[1:11]].round(2)\n",
    "\n",
    "top_movies['My Fair Lady'] = content[np.argsort(dist_MFL)[1:11]]\n",
    "top_movies['Distance (My Fair Lady)'] = dist_MFL[np.argsort(dist_MFL)[1:11]].round(2)\n",
    "\n",
    "top_movies.index = top_movies.index + 1\n",
    "\n",
    "# Display the dataframe\n",
    "top_movies"
   ]
  },
  {
   "cell_type": "code",
   "execution_count": null,
   "metadata": {
    "collapsed": true
   },
   "outputs": [],
   "source": []
  }
 ],
 "metadata": {
  "anaconda-cloud": {},
  "kernelspec": {
   "display_name": "Python 2",
   "language": "python",
   "name": "python2"
  },
  "language_info": {
   "codemirror_mode": {
    "name": "ipython",
    "version": 2
   },
   "file_extension": ".py",
   "mimetype": "text/x-python",
   "name": "python",
   "nbconvert_exporter": "python",
   "pygments_lexer": "ipython2",
   "version": "2.7.14"
  }
 },
 "nbformat": 4,
 "nbformat_minor": 1
}
