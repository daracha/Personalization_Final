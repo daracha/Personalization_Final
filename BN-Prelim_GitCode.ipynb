{
 "cells": [
  {
   "cell_type": "code",
   "execution_count": 44,
   "metadata": {
    "collapsed": true
   },
   "outputs": [],
   "source": [
    "import json\n",
    "import scipy as sp\n",
    "\n",
    "import sys\n",
    "import string\n",
    "\n",
    "from libpgm.nodedata import NodeData\n",
    "from libpgm.graphskeleton import GraphSkeleton\n",
    "from libpgm.discretebayesiannetwork import DiscreteBayesianNetwork\n",
    "from libpgm.lgbayesiannetwork import LGBayesianNetwork\n",
    "from libpgm.hybayesiannetwork import HyBayesianNetwork\n",
    "from libpgm.dyndiscbayesiannetwork import DynDiscBayesianNetwork\n",
    "from libpgm.tablecpdfactorization import TableCPDFactorization\n",
    "from libpgm.sampleaggregator import SampleAggregator\n",
    "from libpgm.pgmlearner import PGMLearner"
   ]
  },
  {
   "cell_type": "code",
   "execution_count": 64,
   "metadata": {
    "collapsed": true
   },
   "outputs": [],
   "source": [
    "text = open(\"../data/unifiedMLData.json\")\n",
    "data=text.read()\n",
    "printable = set(string.printable)\n",
    "#print printable\n",
    "asciiData=filter(lambda x: x in printable, data)\n",
    "#print asciiData\n",
    "\n"
   ]
  },
  {
   "cell_type": "code",
   "execution_count": 65,
   "metadata": {
    "collapsed": true
   },
   "outputs": [],
   "source": [
    "listofDicts=json.loads(asciiData)\n",
    "#print listofDicts[0]\n",
    "\n",
    "skel = GraphSkeleton()\n",
    "skel.load(\"../data/skeleton.json\")\n",
    "\n",
    "learner = PGMLearner()\n",
    "\n",
    "result = learner.discrete_mle_estimateparams(skel, listofDicts)"
   ]
  },
  {
   "cell_type": "code",
   "execution_count": 66,
   "metadata": {
    "collapsed": true
   },
   "outputs": [],
   "source": [
    "tcf=TableCPDFactorization(result)"
   ]
  },
  {
   "cell_type": "code",
   "execution_count": 48,
   "metadata": {
    "collapsed": true
   },
   "outputs": [],
   "source": [
    "myquery = dict(rating=[5])\n",
    "myevidence = dict(occupation='student')"
   ]
  },
  {
   "cell_type": "code",
   "execution_count": 49,
   "metadata": {},
   "outputs": [
    {
     "name": "stdout",
     "output_type": "stream",
     "text": [
      "0.187615695979\n"
     ]
    }
   ],
   "source": [
    "res2=tcf.specificquery(query=myquery,evidence=myevidence)\n",
    "print res2"
   ]
  },
  {
   "cell_type": "code",
   "execution_count": 50,
   "metadata": {
    "collapsed": true
   },
   "outputs": [],
   "source": [
    "tcf.refresh()"
   ]
  },
  {
   "cell_type": "code",
   "execution_count": 51,
   "metadata": {},
   "outputs": [
    {
     "name": "stdout",
     "output_type": "stream",
     "text": [
      "0.149013809903\n",
      "0.18335286155\n",
      "0.223265355008\n",
      "0.234122726279\n",
      "0.21024524726\n"
     ]
    }
   ],
   "source": [
    "#Rating 1 Given Genre  is multiple\n",
    "myquery = dict(rating=[1])\n",
    "myevidence = dict(genre='multiple')\n",
    "result=tcf.specificquery(query=myquery,evidence=myevidence)\n",
    "print result\n",
    "\n",
    "tcf.refresh()\n",
    "\n",
    "\n",
    "#Rating 2 Given Genre  is multiple\n",
    "myquery = dict(rating=[2])\n",
    "myevidence = dict(genre='multiple')\n",
    "result=tcf.specificquery(query=myquery,evidence=myevidence)\n",
    "print result\n",
    "\n",
    "tcf.refresh()\n",
    "\n",
    "#Rating 3 Given Genre  is multiple\n",
    "myquery = dict(rating=[3])\n",
    "myevidence = dict(genre='multiple')\n",
    "result=tcf.specificquery(query=myquery,evidence=myevidence)\n",
    "print result\n",
    "\n",
    "tcf.refresh()\n",
    "\n",
    "#Rating 4 Given Genre  is multiple\n",
    "myquery = dict(rating=[4])\n",
    "myevidence = dict(genre='multiple')\n",
    "result=tcf.specificquery(query=myquery,evidence=myevidence)\n",
    "print result\n",
    "\n",
    "tcf.refresh()\n",
    "\n",
    "#Rating 5 Given Genre  is multiple\n",
    "myquery = dict(rating=[5])\n",
    "myevidence = dict(genre='multiple')\n",
    "result=tcf.specificquery(query=myquery,evidence=myevidence)\n",
    "print result\n",
    "\n",
    "tcf.refresh()"
   ]
  },
  {
   "cell_type": "code",
   "execution_count": 52,
   "metadata": {},
   "outputs": [
    {
     "name": "stdout",
     "output_type": "stream",
     "text": [
      "0.21024524725976043\n"
     ]
    }
   ],
   "source": [
    "print json.dumps(result, indent=0)"
   ]
  },
  {
   "cell_type": "code",
   "execution_count": 53,
   "metadata": {},
   "outputs": [
    {
     "name": "stdout",
     "output_type": "stream",
     "text": [
      "0.302243874903\n"
     ]
    }
   ],
   "source": [
    "myquery = dict(rating=[4])\n",
    "myevidence = dict(occupation='student',movie_title='Titanic (1997)')\n",
    "result=tcf.specificquery(query=myquery,evidence=myevidence)\n",
    "print result\n",
    "\n",
    "tcf.refresh()"
   ]
  },
  {
   "cell_type": "code",
   "execution_count": 67,
   "metadata": {},
   "outputs": [
    {
     "name": "stdout",
     "output_type": "stream",
     "text": [
      "0.0863945941932\n",
      "0.142297170862\n",
      "0.188724734536\n",
      "0.180197222841\n",
      "0.402386277567\n"
     ]
    }
   ],
   "source": [
    "for i in range(1,6):\n",
    "    myquery = dict(rating=[i])\n",
    "    myevidence = dict(movie_title='Titanic (1997)')\n",
    "    result=tcf.specificquery(query=myquery,evidence=myevidence)\n",
    "    print result\n",
    "    tcf.refresh()"
   ]
  },
  {
   "cell_type": "code",
   "execution_count": 68,
   "metadata": {},
   "outputs": [
    {
     "name": "stdout",
     "output_type": "stream",
     "text": [
      "0.187240315834\n",
      "0.198294497661\n",
      "0.225456201579\n",
      "0.187240315834\n",
      "0.201768669092\n"
     ]
    }
   ],
   "source": [
    "for i in range(1,6):\n",
    "    myquery = dict(rating=[i])\n",
    "    result=tcf.specificquery(query=myquery,evidence=myevidence)\n",
    "    print result\n",
    "    tcf.refresh()"
   ]
  },
  {
   "cell_type": "code",
   "execution_count": 69,
   "metadata": {},
   "outputs": [
    {
     "name": "stdout",
     "output_type": "stream",
     "text": [
      "0.198019751986\n",
      "0.19877913913\n",
      "0.201553822925\n",
      "0.201261750947\n",
      "0.200385535012\n"
     ]
    }
   ],
   "source": [
    "for i in range(1,6):\n",
    "    myquery = dict(rating=[i])\n",
    "    myevidence = dict(gender='F')\n",
    "    result=tcf.specificquery(query=myquery,evidence=myevidence)\n",
    "    print result\n",
    "    tcf.refresh()"
   ]
  },
  {
   "cell_type": "code",
   "execution_count": 70,
   "metadata": {},
   "outputs": [
    {
     "name": "stdout",
     "output_type": "stream",
     "text": [
      "0.137791353824\n",
      "0.137791353824\n",
      "0.159325115962\n",
      "0.332073741111\n",
      "0.233018435278\n"
     ]
    }
   ],
   "source": [
    "for i in range(1,6):\n",
    "    myquery = dict(rating=[i])\n",
    "    myevidence = dict(occupation='lawyer')\n",
    "    result=tcf.specificquery(query=myquery,evidence=myevidence)\n",
    "    print result\n",
    "    tcf.refresh()"
   ]
  },
  {
   "cell_type": "code",
   "execution_count": 57,
   "metadata": {
    "scrolled": true
   },
   "outputs": [
    {
     "name": "stdout",
     "output_type": "stream",
     "text": [
      "[\n",
      "  {\n",
      "    \"rating\": 1, \n",
      "    \"user_id\": 109, \n",
      "    \"gender\": \"M\", \n",
      "    \"age\": 36, \n",
      "    \"movie_title\": \"Mrs. Brown (Her Majesty, Mrs. Brown) (1997)\", \n",
      "    \"genre\": \"multiple\", \n",
      "    \"release_date\": \"1995-01-01\", \n",
      "    \"occupation\": \"student\"\n",
      "  }, \n",
      "  {\n",
      "    \"rating\": 5, \n",
      "    \"user_id\": 110, \n",
      "    \"gender\": \"F\", \n",
      "    \"age\": 53, \n",
      "    \"movie_title\": \"Starship Troopers (1997)\", \n",
      "    \"genre\": \"multiple\", \n",
      "    \"release_date\": \"1995-10-30\", \n",
      "    \"occupation\": \"student\"\n",
      "  }, \n",
      "  {\n",
      "    \"rating\": 4, \n",
      "    \"user_id\": 104, \n",
      "    \"gender\": \"F\", \n",
      "    \"age\": 38, \n",
      "    \"movie_title\": \"Long Kiss Goodnight, The (1996)\", \n",
      "    \"genre\": \"multiple\", \n",
      "    \"release_date\": \"1997-01-01\", \n",
      "    \"occupation\": \"student\"\n",
      "  }\n",
      "]\n"
     ]
    }
   ],
   "source": [
    "myquery = dict(rating=[5])\n",
    "myevidence = dict(occupation='student')\n",
    "res2=tcf.gibbssample(evidence=myevidence,n=3)\n",
    "\n",
    "\n",
    "print json.dumps(res2, indent=2)"
   ]
  },
  {
   "cell_type": "code",
   "execution_count": null,
   "metadata": {
    "collapsed": true
   },
   "outputs": [],
   "source": []
  },
  {
   "cell_type": "code",
   "execution_count": null,
   "metadata": {
    "collapsed": true
   },
   "outputs": [],
   "source": []
  }
 ],
 "metadata": {
  "kernelspec": {
   "display_name": "Python 2",
   "language": "python",
   "name": "python2"
  },
  "language_info": {
   "codemirror_mode": {
    "name": "ipython",
    "version": 2
   },
   "file_extension": ".py",
   "mimetype": "text/x-python",
   "name": "python",
   "nbconvert_exporter": "python",
   "pygments_lexer": "ipython2",
   "version": "2.7.13"
  }
 },
 "nbformat": 4,
 "nbformat_minor": 2
}
